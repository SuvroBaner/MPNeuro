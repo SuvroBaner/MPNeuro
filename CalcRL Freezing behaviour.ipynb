{
 "cells": [
  {
   "cell_type": "markdown",
   "metadata": {},
   "source": [
    "## Load in the data"
   ]
  },
  {
   "cell_type": "code",
   "execution_count": 47,
   "metadata": {
    "collapsed": true
   },
   "outputs": [],
   "source": [
    "import pandas as pd\n",
    "%matplotlib inline\n",
    "import matplotlib.pyplot as plt\n",
    "import numpy as np\n",
    "NUM_MICE_FREEZE = 3\n",
    "NUM_MICE_FEED = 3\n",
    "from MPNeuro.plotting import prettify_axes\n",
    "import importlib"
   ]
  },
  {
   "cell_type": "code",
   "execution_count": 48,
   "metadata": {
    "collapsed": false
   },
   "outputs": [],
   "source": [
    "import matplotlib as mpl\n",
    "mpl.rc('font', size = 20)\n",
    "color_dict = {5: 'blue', 20:'red', 40:'black', 0:'orange'}\n",
    "mpl.rc('lines', linewidth=3)"
   ]
  },
  {
   "cell_type": "code",
   "execution_count": 49,
   "metadata": {
    "collapsed": false,
    "scrolled": true
   },
   "outputs": [
    {
     "data": {
      "text/html": [
       "<div>\n",
       "<table border=\"1\" class=\"dataframe\">\n",
       "  <thead>\n",
       "    <tr style=\"text-align: right;\">\n",
       "      <th></th>\n",
       "      <th>a</th>\n",
       "      <th>b</th>\n",
       "      <th>time</th>\n",
       "      <th>freq</th>\n",
       "      <th>mouse_id</th>\n",
       "      <th>train_test</th>\n",
       "      <th>distance</th>\n",
       "      <th>immobile_dur</th>\n",
       "    </tr>\n",
       "  </thead>\n",
       "  <tbody>\n",
       "    <tr>\n",
       "      <th>142</th>\n",
       "      <td>Result 1</td>\n",
       "      <td>Trial    10</td>\n",
       "      <td>0:00:30-0:01:00</td>\n",
       "      <td>20Hz</td>\n",
       "      <td>MP135</td>\n",
       "      <td>24hr Test</td>\n",
       "      <td>132.4800</td>\n",
       "      <td>3.66663</td>\n",
       "    </tr>\n",
       "    <tr>\n",
       "      <th>143</th>\n",
       "      <td>Result 1</td>\n",
       "      <td>Trial    10</td>\n",
       "      <td>0:01:00-0:01:30</td>\n",
       "      <td>20Hz</td>\n",
       "      <td>MP135</td>\n",
       "      <td>24hr Test</td>\n",
       "      <td>83.7409</td>\n",
       "      <td>9.53332</td>\n",
       "    </tr>\n",
       "    <tr>\n",
       "      <th>144</th>\n",
       "      <td>Result 1</td>\n",
       "      <td>Trial    10</td>\n",
       "      <td>0:01:30-0:02:00</td>\n",
       "      <td>20Hz</td>\n",
       "      <td>MP135</td>\n",
       "      <td>24hr Test</td>\n",
       "      <td>99.8640</td>\n",
       "      <td>5.33333</td>\n",
       "    </tr>\n",
       "    <tr>\n",
       "      <th>141</th>\n",
       "      <td>Result 1</td>\n",
       "      <td>Trial    10</td>\n",
       "      <td>Start-0:00:30</td>\n",
       "      <td>20Hz</td>\n",
       "      <td>MP135</td>\n",
       "      <td>24hr Test</td>\n",
       "      <td>144.3720</td>\n",
       "      <td>4.93336</td>\n",
       "    </tr>\n",
       "    <tr>\n",
       "      <th>146</th>\n",
       "      <td>Result 1</td>\n",
       "      <td>Trial    11</td>\n",
       "      <td>0:00:30-0:01:00</td>\n",
       "      <td>20Hz</td>\n",
       "      <td>MP136</td>\n",
       "      <td>24hr Test</td>\n",
       "      <td>59.2885</td>\n",
       "      <td>21.33330</td>\n",
       "    </tr>\n",
       "  </tbody>\n",
       "</table>\n",
       "</div>"
      ],
      "text/plain": [
       "            a            b             time  freq mouse_id train_test  \\\n",
       "142  Result 1  Trial    10  0:00:30-0:01:00  20Hz    MP135  24hr Test   \n",
       "143  Result 1  Trial    10  0:01:00-0:01:30  20Hz    MP135  24hr Test   \n",
       "144  Result 1  Trial    10  0:01:30-0:02:00  20Hz    MP135  24hr Test   \n",
       "141  Result 1  Trial    10    Start-0:00:30  20Hz    MP135  24hr Test   \n",
       "146  Result 1  Trial    11  0:00:30-0:01:00  20Hz    MP136  24hr Test   \n",
       "\n",
       "     distance  immobile_dur  \n",
       "142  132.4800       3.66663  \n",
       "143   83.7409       9.53332  \n",
       "144   99.8640       5.33333  \n",
       "141  144.3720       4.93336  \n",
       "146   59.2885      21.33330  "
      ]
     },
     "execution_count": 49,
     "metadata": {},
     "output_type": "execute_result"
    }
   ],
   "source": [
    "col_names = ['a', 'b', 'time', 'freq', 'mouse_id', 'train_test', 'distance', 'immobile_dur', 'c']\n",
    "#freeze_df = pd.read_csv('CalcRL freezing.csv', sep = ';', encoding='utf-16', skiprows=4, header=None)\n",
    "freeze_df = pd.read_csv('2016-Mar CalcRL frequency dependent freezing2.csv', sep = ';', encoding='utf-16', skiprows=4, header=None)\n",
    "#freeze_df = pd.read_csv('2016-Feb CalcRL frequency dependent freezing2.csv', sep = ';', encoding='utf-16', skiprows=4, header=None)\n",
    "freeze_df.columns = col_names\n",
    "freeze_df.drop(freeze_df.columns[-1], axis = 1, inplace=True)\n",
    "freeze_df.sort_values(by = ['freq', 'train_test', 'mouse_id', 'time'], inplace=True)\n",
    "freeze_df.head()"
   ]
  },
  {
   "cell_type": "code",
   "execution_count": 50,
   "metadata": {
    "collapsed": true
   },
   "outputs": [],
   "source": [
    "one_min_sum = freeze_df['immobile_dur'] + np.roll(freeze_df['immobile_dur'], -1)\n",
    "freeze_df['immobile_roll_sum'] = one_min_sum"
   ]
  },
  {
   "cell_type": "code",
   "execution_count": 51,
   "metadata": {
    "collapsed": false
   },
   "outputs": [
    {
     "data": {
      "text/html": [
       "<div>\n",
       "<table border=\"1\" class=\"dataframe\">\n",
       "  <thead>\n",
       "    <tr style=\"text-align: right;\">\n",
       "      <th></th>\n",
       "      <th></th>\n",
       "      <th></th>\n",
       "      <th>distance</th>\n",
       "      <th>immobile_dur</th>\n",
       "      <th>immobile_roll_sum</th>\n",
       "    </tr>\n",
       "    <tr>\n",
       "      <th>freq</th>\n",
       "      <th>train_test</th>\n",
       "      <th>time</th>\n",
       "      <th></th>\n",
       "      <th></th>\n",
       "      <th></th>\n",
       "    </tr>\n",
       "  </thead>\n",
       "  <tbody>\n",
       "    <tr>\n",
       "      <th rowspan=\"3\" valign=\"top\">20Hz</th>\n",
       "      <th rowspan=\"3\" valign=\"top\">24hr Test</th>\n",
       "      <th>0:00:30-0:01:00</th>\n",
       "      <td>86.026567</td>\n",
       "      <td>12.999977</td>\n",
       "      <td>28.111083</td>\n",
       "    </tr>\n",
       "    <tr>\n",
       "      <th>0:01:00-0:01:30</th>\n",
       "      <td>66.859100</td>\n",
       "      <td>15.111107</td>\n",
       "      <td>26.866650</td>\n",
       "    </tr>\n",
       "    <tr>\n",
       "      <th>0:01:30-0:02:00</th>\n",
       "      <td>84.327950</td>\n",
       "      <td>9.466665</td>\n",
       "      <td>23.800095</td>\n",
       "    </tr>\n",
       "  </tbody>\n",
       "</table>\n",
       "</div>"
      ],
      "text/plain": [
       "                                  distance  immobile_dur  immobile_roll_sum\n",
       "freq train_test time                                                       \n",
       "20Hz 24hr Test  0:00:30-0:01:00  86.026567     12.999977          28.111083\n",
       "                0:01:00-0:01:30  66.859100     15.111107          26.866650\n",
       "                0:01:30-0:02:00  84.327950      9.466665          23.800095"
      ]
     },
     "execution_count": 51,
     "metadata": {},
     "output_type": "execute_result"
    }
   ],
   "source": [
    "grouped_df_mean= freeze_df.groupby(['time', 'freq', 'train_test']).mean()\n",
    "#grouped_df_mean.drop('mouse_id', axis = 1, inplace=True)\n",
    "grouped_df_mean.index = grouped_df_mean.index.swaplevel(0, 2)\n",
    "grouped_df_mean.index = grouped_df_mean.index.swaplevel(0, 1)\n",
    "grouped_df_mean.sortlevel(level = ['freq', 'train_test', 'time'], inplace=True)\n",
    "grouped_df_mean.head(3)"
   ]
  },
  {
   "cell_type": "code",
   "execution_count": 52,
   "metadata": {
    "collapsed": false
   },
   "outputs": [
    {
     "data": {
      "text/html": [
       "<div>\n",
       "<table border=\"1\" class=\"dataframe\">\n",
       "  <thead>\n",
       "    <tr style=\"text-align: right;\">\n",
       "      <th></th>\n",
       "      <th></th>\n",
       "      <th></th>\n",
       "      <th>distance</th>\n",
       "      <th>immobile_dur</th>\n",
       "      <th>immobile_roll_sum</th>\n",
       "    </tr>\n",
       "    <tr>\n",
       "      <th>freq</th>\n",
       "      <th>train_test</th>\n",
       "      <th>time</th>\n",
       "      <th></th>\n",
       "      <th></th>\n",
       "      <th></th>\n",
       "    </tr>\n",
       "  </thead>\n",
       "  <tbody>\n",
       "    <tr>\n",
       "      <th rowspan=\"2\" valign=\"top\">20Hz</th>\n",
       "      <th rowspan=\"2\" valign=\"top\">24hr Test</th>\n",
       "      <th>0:00:30-0:01:00</th>\n",
       "      <td>40.382802</td>\n",
       "      <td>8.875688</td>\n",
       "      <td>13.631730</td>\n",
       "    </tr>\n",
       "    <tr>\n",
       "      <th>0:01:00-0:01:30</th>\n",
       "      <td>16.170663</td>\n",
       "      <td>4.880961</td>\n",
       "      <td>10.413665</td>\n",
       "    </tr>\n",
       "  </tbody>\n",
       "</table>\n",
       "</div>"
      ],
      "text/plain": [
       "                                  distance  immobile_dur  immobile_roll_sum\n",
       "freq train_test time                                                       \n",
       "20Hz 24hr Test  0:00:30-0:01:00  40.382802      8.875688          13.631730\n",
       "                0:01:00-0:01:30  16.170663      4.880961          10.413665"
      ]
     },
     "execution_count": 52,
     "metadata": {},
     "output_type": "execute_result"
    }
   ],
   "source": [
    "grouped_df_std = freeze_df.groupby(['time', 'freq', 'train_test']).std()\n",
    "#grouped_df_std.drop('mouse_id', axis = 1, inplace=True)\n",
    "#grouped_df_std.columns = ['dist_std', 'immobile_std']\n",
    "grouped_df_std.index = grouped_df_std.index.swaplevel(0, 2)\n",
    "grouped_df_std.index = grouped_df_std.index.swaplevel(0, 1)\n",
    "grouped_df_std.sortlevel(inplace=True)\n",
    "grouped_df_std.head(2)"
   ]
  },
  {
   "cell_type": "markdown",
   "metadata": {},
   "source": [
    "## Plot freezing during training"
   ]
  },
  {
   "cell_type": "code",
   "execution_count": 53,
   "metadata": {
    "collapsed": false
   },
   "outputs": [],
   "source": [
    "mov_40Hz = grouped_df_mean.loc['40Hz', 'Train'].immobile_dur\n",
    "mov_40Hz = np.roll(mov_40Hz, 1) \n",
    "mov_20Hz = grouped_df_mean.loc['20Hz', 'Train'].immobile_dur\n",
    "mov_20Hz = np.roll(mov_20Hz, 1) \n",
    "mov_5Hz = grouped_df_mean.loc['5Hz', 'Train'].immobile_dur\n",
    "mov_5Hz = np.roll(mov_5Hz, 1)\n",
    "\n",
    "mov_40Hz_std = grouped_df_std.loc['40Hz', 'Train'].immobile_dur\n",
    "mov_40Hz_std = np.roll(mov_40Hz_std, 1) / np.sqrt(NUM_MICE_FREEZE)\n",
    "mov_20Hz_std = grouped_df_std.loc['20Hz', 'Train'].immobile_dur\n",
    "mov_20Hz_std = np.roll(mov_20Hz_std, 1) / np.sqrt(NUM_MICE_FREEZE)\n",
    "mov_5Hz_std = grouped_df_std.loc['5Hz', 'Train'].immobile_dur\n",
    "mov_5Hz_std = np.roll(mov_5Hz_std, 1)/ np.sqrt(NUM_MICE_FREEZE)"
   ]
  },
  {
   "cell_type": "code",
   "execution_count": 54,
   "metadata": {
    "collapsed": false
   },
   "outputs": [
    {
     "data": {
      "text/plain": [
       "(17,)"
      ]
     },
     "execution_count": 54,
     "metadata": {},
     "output_type": "execute_result"
    }
   ],
   "source": [
    "mov_20Hz.shape"
   ]
  },
  {
   "cell_type": "markdown",
   "metadata": {},
   "source": [
    "### Plotting parameters"
   ]
  },
  {
   "cell_type": "code",
   "execution_count": 55,
   "metadata": {
    "collapsed": false
   },
   "outputs": [
    {
     "data": {
      "image/png": "[encoded data removed]",
      "text/plain": [
       "<matplotlib.figure.Figure at 0x61ed7b8>"
      ]
     },
     "metadata": {},
     "output_type": "display_data"
    }
   ],
   "source": [
    "fig, ax = plt.subplots(1, figsize=[11, 6])\n",
    "last_index =14\n",
    "time_indices = np.arange(last_index) / 2+0.25\n",
    "plt.errorbar(time_indices+0.05, mov_5Hz[:last_index], mov_5Hz_std[:last_index], label = '5Hz', capsize = 0, color=color_dict[5])\n",
    "plt.errorbar(time_indices, mov_20Hz[:last_index], mov_20Hz_std[:last_index], label = '20Hz', capsize = 0, color=color_dict[20])\n",
    "plt.errorbar(time_indices-0.05, mov_40Hz[:last_index], mov_40Hz_std[:last_index], label = '40Hz', capsize = 0, color=color_dict[40])\n",
    "laser_times = [[1, 1.5], [2.5, 3], [4, 4.5], [5.5, 6]]\n",
    "for cur_laser in laser_times:\n",
    "    plt.axvspan(cur_laser[0], cur_laser[1], facecolor =  'k', alpha = 0.15)\n",
    "    \n",
    "plt.legend(frameon = False)\n",
    "prettify_axes(plt.gca())\n",
    "plt.xlabel('Time (min)')\n",
    "plt.ylabel('Immobile time (s)');\n",
    "fig.savefig('Training timecourse.png')"
   ]
  },
  {
   "cell_type": "markdown",
   "metadata": {},
   "source": [
    "## Plot freezing during test\n",
    "\n",
    "Calculate means"
   ]
  },
  {
   "cell_type": "code",
   "execution_count": 57,
   "metadata": {
    "collapsed": false
   },
   "outputs": [],
   "source": [
    "test_40Hz_mean = grouped_df_mean.loc['40Hz', '24hr Test'].immobile_roll_sum \n",
    "test_40Hz_mean = np.roll(test_40Hz_mean, 1)\n",
    "test_20Hz_mean = grouped_df_mean.loc['20Hz', '24hr Test'].immobile_roll_sum\n",
    "test_20Hz_mean = np.roll(test_20Hz_mean, 1)\n",
    "test_5Hz_mean = grouped_df_mean.loc['5Hz', '24hr Test'].immobile_roll_sum\n",
    "test_5Hz_mean = np.roll(test_5Hz_mean, 1)\n",
    "#test_0Hz_mean = grouped_df_mean.loc['0Hz', '0hr Test'].immobile_roll_sum\n",
    "#test_0Hz_mean = np.roll(test_0Hz_mean, 1)"
   ]
  },
  {
   "cell_type": "markdown",
   "metadata": {},
   "source": [
    "Calculate std's"
   ]
  },
  {
   "cell_type": "code",
   "execution_count": 59,
   "metadata": {
    "collapsed": false
   },
   "outputs": [],
   "source": [
    "test_40Hz_ste = grouped_df_std.loc['40Hz', '24hr Test'].immobile_roll_sum / np.sqrt(NUM_MICE_FREEZE)\n",
    "test_40Hz_ste = np.roll(test_40Hz_ste, 1)\n",
    "test_20Hz_ste = grouped_df_std.loc['20Hz', '24hr Test'].immobile_roll_sum / np.sqrt(NUM_MICE_FREEZE)\n",
    "test_20Hz_ste = np.roll(test_20Hz_ste, 1)\n",
    "test_5Hz_ste = grouped_df_std.loc['5Hz', '24hr Test'].immobile_roll_sum / np.sqrt(NUM_MICE_FREEZE)\n",
    "test_5Hz_ste = np.roll(test_5Hz_ste, 1)\n",
    "#test_0Hz_ste = grouped_df_std.loc['0Hz', '0hr Test'].immobile_roll_sum / np.sqrt(NUM_MICE_FREEZE)\n",
    "#test_0Hz_ste = np.roll(test_0Hz_ste, 1)"
   ]
  },
  {
   "cell_type": "code",
   "execution_count": null,
   "metadata": {
    "collapsed": false
   },
   "outputs": [],
   "source": [
    "test_0Hz_mean.shape"
   ]
  },
  {
   "cell_type": "code",
   "execution_count": 60,
   "metadata": {
    "collapsed": false
   },
   "outputs": [
    {
     "data": {
      "image/png": "[encoded data removed]",
      "text/plain": [
       "<matplotlib.figure.Figure at 0x614fef0>"
      ]
     },
     "metadata": {},
     "output_type": "display_data"
    }
   ],
   "source": [
    "fig, ax = plt.subplots(1, figsize=[11, 6])\n",
    "last_index =4\n",
    "time_indices = np.arange(last_index) / 2+0.25\n",
    "#plt.errorbar(time_indices[:4], test_0Hz_mean[:4] / 2, test_0Hz_ste[:4] / 2, label = '0', color=color_dict[0], capsize = 0)\n",
    "plt.errorbar(time_indices, test_5Hz_mean[:last_index] / 2, test_5Hz_ste[:last_index] / 2, label = '5', color=color_dict[5], capsize = 0)\n",
    "plt.errorbar(time_indices, test_20Hz_mean[:last_index] / 2, test_20Hz_ste[:last_index] / 2, label = '20', color=color_dict[20], capsize = 0)\n",
    "plt.errorbar(time_indices, test_40Hz_mean[:last_index] / 2, test_40Hz_ste[:last_index] / 2, label = '40', color=color_dict[40], capsize = 0)\n",
    "plt.legend(frameon = False)\n",
    "plt.xlabel('Time (min)')\n",
    "plt.ylabel('Freezing time (seconds)')\n",
    "prettify_axes(plt.gca())\n",
    "fig.savefig('Testing timecourse.png')"
   ]
  },
  {
   "cell_type": "code",
   "execution_count": 61,
   "metadata": {
    "collapsed": false
   },
   "outputs": [
    {
     "ename": "NameError",
     "evalue": "name 'test_0Hz_mean' is not defined",
     "output_type": "error",
     "traceback": [
      "\u001b[1;31m---------------------------------------------------------------------------\u001b[0m",
      "\u001b[1;31mNameError\u001b[0m                                 Traceback (most recent call last)",
      "\u001b[1;32m<ipython-input-61-43adcd265440>\u001b[0m in \u001b[0;36m<module>\u001b[1;34m()\u001b[0m\n\u001b[0;32m      1\u001b[0m \u001b[0mfig\u001b[0m\u001b[1;33m,\u001b[0m \u001b[0max\u001b[0m \u001b[1;33m=\u001b[0m \u001b[0mplt\u001b[0m\u001b[1;33m.\u001b[0m\u001b[0msubplots\u001b[0m\u001b[1;33m(\u001b[0m\u001b[1;36m1\u001b[0m\u001b[1;33m,\u001b[0m \u001b[0mfigsize\u001b[0m \u001b[1;33m=\u001b[0m \u001b[1;33m[\u001b[0m\u001b[1;36m8\u001b[0m\u001b[1;33m,\u001b[0m \u001b[1;36m6\u001b[0m\u001b[1;33m]\u001b[0m\u001b[1;33m)\u001b[0m\u001b[1;33m\u001b[0m\u001b[0m\n\u001b[0;32m      2\u001b[0m \u001b[0mfreeze_indices\u001b[0m \u001b[1;33m=\u001b[0m \u001b[0mnp\u001b[0m\u001b[1;33m.\u001b[0m\u001b[0marray\u001b[0m\u001b[1;33m(\u001b[0m\u001b[1;33m[\u001b[0m\u001b[1;36m0\u001b[0m\u001b[1;33m,\u001b[0m  \u001b[1;36m5\u001b[0m\u001b[1;33m,\u001b[0m \u001b[1;36m20\u001b[0m\u001b[1;33m,\u001b[0m \u001b[1;36m40\u001b[0m\u001b[1;33m]\u001b[0m\u001b[1;33m)\u001b[0m\u001b[1;33m\u001b[0m\u001b[0m\n\u001b[1;32m----> 3\u001b[1;33m \u001b[0mfreq_means\u001b[0m \u001b[1;33m=\u001b[0m \u001b[0mnp\u001b[0m\u001b[1;33m.\u001b[0m\u001b[0marray\u001b[0m\u001b[1;33m(\u001b[0m\u001b[1;33m[\u001b[0m\u001b[0mtest_0Hz_mean\u001b[0m\u001b[1;33m[\u001b[0m\u001b[1;36m0\u001b[0m\u001b[1;33m]\u001b[0m\u001b[1;33m,\u001b[0m \u001b[0mtest_5Hz_mean\u001b[0m\u001b[1;33m[\u001b[0m\u001b[1;36m0\u001b[0m\u001b[1;33m]\u001b[0m\u001b[1;33m,\u001b[0m \u001b[0mtest_20Hz_mean\u001b[0m\u001b[1;33m[\u001b[0m\u001b[1;36m0\u001b[0m\u001b[1;33m]\u001b[0m\u001b[1;33m,\u001b[0m \u001b[0mtest_40Hz_mean\u001b[0m\u001b[1;33m[\u001b[0m\u001b[1;36m0\u001b[0m\u001b[1;33m]\u001b[0m\u001b[1;33m]\u001b[0m\u001b[1;33m)\u001b[0m \u001b[1;33m*\u001b[0m \u001b[1;36m6\u001b[0m \u001b[1;33m/\u001b[0m \u001b[1;36m5\u001b[0m\u001b[1;33m\u001b[0m\u001b[0m\n\u001b[0m\u001b[0;32m      4\u001b[0m \u001b[0mfreq_stes\u001b[0m \u001b[1;33m=\u001b[0m \u001b[0mnp\u001b[0m\u001b[1;33m.\u001b[0m\u001b[0marray\u001b[0m\u001b[1;33m(\u001b[0m\u001b[1;33m[\u001b[0m\u001b[0mtest_0Hz_ste\u001b[0m\u001b[1;33m[\u001b[0m\u001b[1;36m0\u001b[0m\u001b[1;33m]\u001b[0m\u001b[1;33m,\u001b[0m  \u001b[0mtest_5Hz_ste\u001b[0m\u001b[1;33m[\u001b[0m\u001b[1;36m0\u001b[0m\u001b[1;33m]\u001b[0m\u001b[1;33m,\u001b[0m \u001b[0mtest_20Hz_ste\u001b[0m\u001b[1;33m[\u001b[0m\u001b[1;36m0\u001b[0m\u001b[1;33m]\u001b[0m\u001b[1;33m,\u001b[0m \u001b[0mtest_40Hz_ste\u001b[0m\u001b[1;33m[\u001b[0m\u001b[1;36m0\u001b[0m\u001b[1;33m]\u001b[0m\u001b[1;33m]\u001b[0m\u001b[1;33m)\u001b[0m\u001b[1;33m*\u001b[0m \u001b[1;36m6\u001b[0m \u001b[1;33m/\u001b[0m \u001b[1;36m5\u001b[0m\u001b[1;33m\u001b[0m\u001b[0m\n\u001b[0;32m      5\u001b[0m \u001b[0mplt\u001b[0m\u001b[1;33m.\u001b[0m\u001b[0merrorbar\u001b[0m\u001b[1;33m(\u001b[0m\u001b[0mfreeze_indices\u001b[0m\u001b[1;33m,\u001b[0m \u001b[0mfreq_means\u001b[0m\u001b[1;33m,\u001b[0m \u001b[0mfreq_stes\u001b[0m\u001b[1;33m,\u001b[0m \u001b[0mcapsize\u001b[0m \u001b[1;33m=\u001b[0m \u001b[1;36m0\u001b[0m\u001b[1;33m,\u001b[0m \u001b[0mcolor\u001b[0m \u001b[1;33m=\u001b[0m \u001b[1;34m'red'\u001b[0m\u001b[1;33m)\u001b[0m\u001b[1;33m\u001b[0m\u001b[0m\n",
      "\u001b[1;31mNameError\u001b[0m: name 'test_0Hz_mean' is not defined"
     ]
    },
    {
     "data": {
      "image/png": "[encoded data removed]",
      "text/plain": [
       "<matplotlib.figure.Figure at 0x62999b0>"
      ]
     },
     "metadata": {},
     "output_type": "display_data"
    }
   ],
   "source": [
    "fig, ax = plt.subplots(1, figsize = [8, 6])\n",
    "freeze_indices = np.array([0,  5, 20, 40])\n",
    "freq_means = np.array([test_0Hz_mean[0], test_5Hz_mean[0], test_20Hz_mean[0], test_40Hz_mean[0]]) * 6 / 5\n",
    "freq_stes = np.array([test_0Hz_ste[0],  test_5Hz_ste[0], test_20Hz_ste[0], test_40Hz_ste[0]])* 6 / 5\n",
    "plt.errorbar(freeze_indices, freq_means, freq_stes, capsize = 0, color = 'red')\n",
    "plt.xlim([-1, 50])\n",
    "plt.ylim([0, 60])\n",
    "plt.ylabel('Immobile duration (first minute)', fontsize = 20)\n",
    "plt.xlabel('Stimulation frequency (Hz)', fontsize = 20)\n",
    "plt.xticks([0,1,5,10,20,40])\n",
    "prettify_axes(plt.gca())\n",
    "fig.savefig('Frequency vs immobility.png')"
   ]
  },
  {
   "cell_type": "markdown",
   "metadata": {},
   "source": [
    "# CalcRL feeding"
   ]
  },
  {
   "cell_type": "code",
   "execution_count": null,
   "metadata": {
    "collapsed": false
   },
   "outputs": [],
   "source": [
    "#feed_df = pd.read_csv('CalcRL feeding lick times - retry.csv', sep=';')\n",
    "feed_df = pd.read_csv('2016 CalcRL feeding frequency.csv', sep=';')\n",
    "feed_df.head()"
   ]
  },
  {
   "cell_type": "code",
   "execution_count": null,
   "metadata": {
    "collapsed": false
   },
   "outputs": [],
   "source": [
    "feed_df['duration'] = feed_df.stop - feed_df.start\n",
    "feed_df.head(3)"
   ]
  },
  {
   "cell_type": "code",
   "execution_count": null,
   "metadata": {
    "collapsed": false,
    "scrolled": true
   },
   "outputs": [],
   "source": [
    "sum_feed_df = feed_df.groupby(['mouse', 'Hz']).sum()\n",
    "sum_feed_df.head(3)"
   ]
  },
  {
   "cell_type": "code",
   "execution_count": null,
   "metadata": {
    "collapsed": false
   },
   "outputs": [],
   "source": [
    "mean_mouse_feed_df = sum_feed_df.groupby(level = 'Hz').mean()\n",
    "std_mouse_feed_df = sum_feed_df.groupby(level = 'Hz').std()\n",
    "mean_mouse_feed_df.head()"
   ]
  },
  {
   "cell_type": "code",
   "execution_count": null,
   "metadata": {
    "collapsed": false
   },
   "outputs": [],
   "source": [
    "fig, ax = plt.subplots(1, figsize=[8, 6])\n",
    "freeze_indices = np.array([0,  5, 20, 40])\n",
    "freq_means = np.array([test_0Hz_mean[0], test_5Hz_mean[0], test_20Hz_mean[0], test_40Hz_mean[0]] )/ 48\n",
    "freq_stes = np.array([test_0Hz_ste[0],  test_5Hz_ste[0], test_20Hz_ste[0], test_40Hz_ste[0]] ) / 48\n",
    "plt.errorbar(freeze_indices,  100 *freq_means,  100 *freq_stes, label = 'Freezing', color = 'r', capsize = 0)\n",
    "\n",
    "feed_indices = np.array([0, 1, 5, 20, 40])\n",
    "max_duration =  mean_mouse_feed_df['duration'][0]\n",
    "plt.errorbar(feed_indices, 100 *mean_mouse_feed_df['duration'] / max_duration,\n",
    "              100 *std_mouse_feed_df['duration'] / (max_duration * np.sqrt(NUM_MICE_FEED)),\n",
    "            label = 'Feeding', color = 'b', capsize = 0)\n",
    "plt.xlim([-1, 50])\n",
    "plt.ylim([0, 140])\n",
    "\n",
    "plt.ylabel('Freeze duration (% of time)\\nFeeding duration (% of 0Hz)')\n",
    "plt.xlabel('Stimulation frequency (Hz)')\n",
    "plt.xticks([0,1,5,10,20,40])\n",
    "prettify_axes(plt.gca())\n",
    "plt.legend(loc='upper right', frameon=False);\n",
    "fig.savefig('CalcRL Freezing vs Feeding.png');"
   ]
  },
  {
   "cell_type": "code",
   "execution_count": null,
   "metadata": {
    "collapsed": false
   },
   "outputs": [],
   "source": [
    "fig, ax = plt.subplots(1, figsize=[8, 6])\n",
    "feed_indices = np.array([0, 1, 5, 20, 40])\n",
    "max_duration =  mean_mouse_feed_df['duration'][0]\n",
    "plt.errorbar(feed_indices, 100 *mean_mouse_feed_df['duration'] / max_duration,\n",
    "              100 *std_mouse_feed_df['duration'] / (max_duration * np.sqrt(NUM_MICE_FEED)),\n",
    "            label = 'Feeding', color = 'b', capsize = 0)\n",
    "plt.xlim([-1, 50])\n",
    "plt.ylim([0, 140])\n",
    "\n",
    "plt.ylabel('Feeding duration (% of 0Hz)')\n",
    "plt.xlabel('Stimulation frequency (Hz)')\n",
    "plt.xticks([0,1,5,10,20,40])\n",
    "prettify_axes(plt.gca())\n",
    "#plt.legend(loc='lower right', frameon=False, fontsize = fs-4);\n",
    "fig.savefig('CalcRL Freezing vs Feeding.png');"
   ]
  },
  {
   "cell_type": "code",
   "execution_count": null,
   "metadata": {
    "collapsed": false
   },
   "outputs": [],
   "source": [
    "sum_feed_df"
   ]
  }
 ],
 "metadata": {
  "kernelspec": {
   "display_name": "Python 3",
   "language": "python",
   "name": "python3"
  },
  "language_info": {
   "codemirror_mode": {
    "name": "ipython",
    "version": 3
   },
   "file_extension": ".py",
   "mimetype": "text/x-python",
   "name": "python",
   "nbconvert_exporter": "python",
   "pygments_lexer": "ipython3",
   "version": "3.4.4"
  }
 },
 "nbformat": 4,
 "nbformat_minor": 0
}
