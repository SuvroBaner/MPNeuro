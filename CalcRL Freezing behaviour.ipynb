{
 "cells": [
  {
   "cell_type": "markdown",
   "metadata": {},
   "source": [
    "## Load in the data"
   ]
  },
  {
   "cell_type": "code",
   "execution_count": 2,
   "metadata": {
    "collapsed": true
   },
   "outputs": [],
   "source": [
    "import pandas as pd\n",
    "%matplotlib inline\n",
    "import matplotlib.pyplot as plt\n",
    "import numpy as np\n",
    "NUM_MICE_FREEZE = 3\n",
    "NUM_MICE_FEED = 3\n",
    "from MPNeuro.plotting import prettify_axes\n",
    "import importlib"
   ]
  },
  {
   "cell_type": "code",
   "execution_count": 3,
   "metadata": {
    "collapsed": false
   },
   "outputs": [],
   "source": [
    "import matplotlib as mpl\n",
    "mpl.rc('font', size = 20)\n",
    "color_dict = {5: 'blue', 20:'red', 40:'black', 0:'orange'}\n",
    "mpl.rc('lines', linewidth=3)"
   ]
  },
  {
   "cell_type": "code",
   "execution_count": 25,
   "metadata": {
    "collapsed": false,
    "scrolled": true
   },
   "outputs": [
    {
     "data": {
      "text/html": [
       "<div>\n",
       "<table border=\"1\" class=\"dataframe\">\n",
       "  <thead>\n",
       "    <tr style=\"text-align: right;\">\n",
       "      <th></th>\n",
       "      <th>a</th>\n",
       "      <th>b</th>\n",
       "      <th>time</th>\n",
       "      <th>freq</th>\n",
       "      <th>mouse_id</th>\n",
       "      <th>train_test</th>\n",
       "      <th>distance</th>\n",
       "      <th>immobile_dur</th>\n",
       "    </tr>\n",
       "  </thead>\n",
       "  <tbody>\n",
       "    <tr>\n",
       "      <th>1</th>\n",
       "      <td>Result 1</td>\n",
       "      <td>Trial     1</td>\n",
       "      <td>0:00:25-0:00:50</td>\n",
       "      <td>0Hz</td>\n",
       "      <td>MP132</td>\n",
       "      <td>0hr Test</td>\n",
       "      <td>134.4690</td>\n",
       "      <td>3.99996</td>\n",
       "    </tr>\n",
       "    <tr>\n",
       "      <th>2</th>\n",
       "      <td>Result 1</td>\n",
       "      <td>Trial     1</td>\n",
       "      <td>0:00:50-0:01:15</td>\n",
       "      <td>0Hz</td>\n",
       "      <td>MP132</td>\n",
       "      <td>0hr Test</td>\n",
       "      <td>101.1110</td>\n",
       "      <td>2.66739</td>\n",
       "    </tr>\n",
       "    <tr>\n",
       "      <th>3</th>\n",
       "      <td>Result 1</td>\n",
       "      <td>Trial     1</td>\n",
       "      <td>0:01:15-0:01:40</td>\n",
       "      <td>0Hz</td>\n",
       "      <td>MP132</td>\n",
       "      <td>0hr Test</td>\n",
       "      <td>95.6980</td>\n",
       "      <td>9.06683</td>\n",
       "    </tr>\n",
       "    <tr>\n",
       "      <th>4</th>\n",
       "      <td>Result 1</td>\n",
       "      <td>Trial     1</td>\n",
       "      <td>0:01:40-0:02:05</td>\n",
       "      <td>0Hz</td>\n",
       "      <td>MP132</td>\n",
       "      <td>0hr Test</td>\n",
       "      <td>26.2970</td>\n",
       "      <td>21.73340</td>\n",
       "    </tr>\n",
       "    <tr>\n",
       "      <th>5</th>\n",
       "      <td>Result 1</td>\n",
       "      <td>Trial     1</td>\n",
       "      <td>0:02:05-0:02:30</td>\n",
       "      <td>0Hz</td>\n",
       "      <td>MP132</td>\n",
       "      <td>0hr Test</td>\n",
       "      <td>54.8678</td>\n",
       "      <td>16.13340</td>\n",
       "    </tr>\n",
       "  </tbody>\n",
       "</table>\n",
       "</div>"
      ],
      "text/plain": [
       "          a            b             time freq mouse_id train_test  distance  \\\n",
       "1  Result 1  Trial     1  0:00:25-0:00:50  0Hz    MP132   0hr Test  134.4690   \n",
       "2  Result 1  Trial     1  0:00:50-0:01:15  0Hz    MP132   0hr Test  101.1110   \n",
       "3  Result 1  Trial     1  0:01:15-0:01:40  0Hz    MP132   0hr Test   95.6980   \n",
       "4  Result 1  Trial     1  0:01:40-0:02:05  0Hz    MP132   0hr Test   26.2970   \n",
       "5  Result 1  Trial     1  0:02:05-0:02:30  0Hz    MP132   0hr Test   54.8678   \n",
       "\n",
       "   immobile_dur  \n",
       "1       3.99996  \n",
       "2       2.66739  \n",
       "3       9.06683  \n",
       "4      21.73340  \n",
       "5      16.13340  "
      ]
     },
     "execution_count": 25,
     "metadata": {},
     "output_type": "execute_result"
    }
   ],
   "source": [
    "col_names = ['a', 'b', 'time', 'freq', 'mouse_id', 'train_test', 'distance', 'immobile_dur', 'c']\n",
    "#freeze_df = pd.read_csv('CalcRL freezing.csv', sep = ';', encoding='utf-16', skiprows=4, header=None)\n",
    "freeze_df = pd.read_csv('2016-Feb CalcRL frequency dependent freezing2.csv', sep = ';', encoding='utf-16', skiprows=4, header=None)\n",
    "freeze_df.columns = col_names\n",
    "freeze_df.drop(freeze_df.columns[-1], axis = 1, inplace=True)\n",
    "freeze_df.sort(columns = ['freq', 'train_test', 'mouse_id', 'time'], inplace=True)\n",
    "freeze_df.head()"
   ]
  },
  {
   "cell_type": "code",
   "execution_count": 26,
   "metadata": {
    "collapsed": false
   },
   "outputs": [],
   "source": [
    "one_min_sum = freeze_df['immobile_dur'] + np.roll(freeze_df['immobile_dur'], -1)\n",
    "freeze_df['immobile_roll_sum'] = one_min_sum"
   ]
  },
  {
   "cell_type": "code",
   "execution_count": 27,
   "metadata": {
    "collapsed": false
   },
   "outputs": [
    {
     "data": {
      "text/html": [
       "<div>\n",
       "<table border=\"1\" class=\"dataframe\">\n",
       "  <thead>\n",
       "    <tr style=\"text-align: right;\">\n",
       "      <th></th>\n",
       "      <th></th>\n",
       "      <th></th>\n",
       "      <th>distance</th>\n",
       "      <th>immobile_dur</th>\n",
       "      <th>immobile_roll_sum</th>\n",
       "    </tr>\n",
       "    <tr>\n",
       "      <th>freq</th>\n",
       "      <th>train_test</th>\n",
       "      <th>time</th>\n",
       "      <th></th>\n",
       "      <th></th>\n",
       "      <th></th>\n",
       "    </tr>\n",
       "  </thead>\n",
       "  <tbody>\n",
       "    <tr>\n",
       "      <th rowspan=\"3\" valign=\"top\">0Hz</th>\n",
       "      <th rowspan=\"3\" valign=\"top\">0hr Test</th>\n",
       "      <th>0:00:25-0:00:50</th>\n",
       "      <td>122.413667</td>\n",
       "      <td>3.644407</td>\n",
       "      <td>8.800170</td>\n",
       "    </tr>\n",
       "    <tr>\n",
       "      <th>0:00:50-0:01:15</th>\n",
       "      <td>110.346467</td>\n",
       "      <td>5.155763</td>\n",
       "      <td>10.578017</td>\n",
       "    </tr>\n",
       "    <tr>\n",
       "      <th>0:01:15-0:01:40</th>\n",
       "      <td>98.739033</td>\n",
       "      <td>5.422253</td>\n",
       "      <td>22.244820</td>\n",
       "    </tr>\n",
       "  </tbody>\n",
       "</table>\n",
       "</div>"
      ],
      "text/plain": [
       "                                   distance  immobile_dur  immobile_roll_sum\n",
       "freq train_test time                                                        \n",
       "0Hz  0hr Test   0:00:25-0:00:50  122.413667      3.644407           8.800170\n",
       "                0:00:50-0:01:15  110.346467      5.155763          10.578017\n",
       "                0:01:15-0:01:40   98.739033      5.422253          22.244820"
      ]
     },
     "execution_count": 27,
     "metadata": {},
     "output_type": "execute_result"
    }
   ],
   "source": [
    "grouped_df_mean= freeze_df.groupby(['time', 'freq', 'train_test']).mean()\n",
    "#grouped_df_mean.drop('mouse_id', axis = 1, inplace=True)\n",
    "grouped_df_mean.index = grouped_df_mean.index.swaplevel(0, 2)\n",
    "grouped_df_mean.index = grouped_df_mean.index.swaplevel(0, 1)\n",
    "grouped_df_mean.sortlevel(level = ['freq', 'train_test', 'time'], inplace=True)\n",
    "grouped_df_mean.head(3)"
   ]
  },
  {
   "cell_type": "code",
   "execution_count": 28,
   "metadata": {
    "collapsed": false
   },
   "outputs": [
    {
     "data": {
      "text/html": [
       "<div>\n",
       "<table border=\"1\" class=\"dataframe\">\n",
       "  <thead>\n",
       "    <tr style=\"text-align: right;\">\n",
       "      <th></th>\n",
       "      <th></th>\n",
       "      <th></th>\n",
       "      <th>distance</th>\n",
       "      <th>immobile_dur</th>\n",
       "      <th>immobile_roll_sum</th>\n",
       "    </tr>\n",
       "    <tr>\n",
       "      <th>freq</th>\n",
       "      <th>train_test</th>\n",
       "      <th>time</th>\n",
       "      <th></th>\n",
       "      <th></th>\n",
       "      <th></th>\n",
       "    </tr>\n",
       "  </thead>\n",
       "  <tbody>\n",
       "    <tr>\n",
       "      <th rowspan=\"2\" valign=\"top\">0Hz</th>\n",
       "      <th rowspan=\"2\" valign=\"top\">0hr Test</th>\n",
       "      <th>0:00:25-0:00:50</th>\n",
       "      <td>12.366434</td>\n",
       "      <td>0.826185</td>\n",
       "      <td>7.400810</td>\n",
       "    </tr>\n",
       "    <tr>\n",
       "      <th>0:00:50-0:01:15</th>\n",
       "      <td>39.545074</td>\n",
       "      <td>6.753026</td>\n",
       "      <td>6.675468</td>\n",
       "    </tr>\n",
       "  </tbody>\n",
       "</table>\n",
       "</div>"
      ],
      "text/plain": [
       "                                  distance  immobile_dur  immobile_roll_sum\n",
       "freq train_test time                                                       \n",
       "0Hz  0hr Test   0:00:25-0:00:50  12.366434      0.826185           7.400810\n",
       "                0:00:50-0:01:15  39.545074      6.753026           6.675468"
      ]
     },
     "execution_count": 28,
     "metadata": {},
     "output_type": "execute_result"
    }
   ],
   "source": [
    "grouped_df_std = freeze_df.groupby(['time', 'freq', 'train_test']).std()\n",
    "#grouped_df_std.drop('mouse_id', axis = 1, inplace=True)\n",
    "#grouped_df_std.columns = ['dist_std', 'immobile_std']\n",
    "grouped_df_std.index = grouped_df_std.index.swaplevel(0, 2)\n",
    "grouped_df_std.index = grouped_df_std.index.swaplevel(0, 1)\n",
    "grouped_df_std.sortlevel(inplace=True)\n",
    "grouped_df_std.head(2)"
   ]
  },
  {
   "cell_type": "markdown",
   "metadata": {},
   "source": [
    "## Plot freezing during training"
   ]
  },
  {
   "cell_type": "code",
   "execution_count": 29,
   "metadata": {
    "collapsed": false
   },
   "outputs": [],
   "source": [
    "mov_40Hz = grouped_df_mean.loc['40Hz', 'Train'].immobile_dur\n",
    "mov_40Hz = np.roll(mov_40Hz, 1) \n",
    "mov_20Hz = grouped_df_mean.loc['20Hz', 'Train'].immobile_dur\n",
    "mov_20Hz = np.roll(mov_20Hz, 1) \n",
    "mov_5Hz = grouped_df_mean.loc['5Hz', 'Train'].immobile_dur\n",
    "mov_5Hz = np.roll(mov_5Hz, 1)\n",
    "\n",
    "mov_40Hz_std = grouped_df_std.loc['40Hz', 'Train'].immobile_dur\n",
    "mov_40Hz_std = np.roll(mov_40Hz_std, 1) / np.sqrt(NUM_MICE_FREEZE)\n",
    "mov_20Hz_std = grouped_df_std.loc['20Hz', 'Train'].immobile_dur\n",
    "mov_20Hz_std = np.roll(mov_20Hz_std, 1) / np.sqrt(NUM_MICE_FREEZE)\n",
    "mov_5Hz_std = grouped_df_std.loc['5Hz', 'Train'].immobile_dur\n",
    "mov_5Hz_std = np.roll(mov_5Hz_std, 1)/ np.sqrt(NUM_MICE_FREEZE)"
   ]
  },
  {
   "cell_type": "code",
   "execution_count": 30,
   "metadata": {
    "collapsed": false
   },
   "outputs": [
    {
     "data": {
      "text/plain": [
       "(16,)"
      ]
     },
     "execution_count": 30,
     "metadata": {},
     "output_type": "execute_result"
    }
   ],
   "source": [
    "mov_20Hz.shape"
   ]
  },
  {
   "cell_type": "markdown",
   "metadata": {},
   "source": [
    "### Plotting parameters"
   ]
  },
  {
   "cell_type": "code",
   "execution_count": 31,
   "metadata": {
    "collapsed": false
   },
   "outputs": [
    {
     "data": {
      "image/png": "[encoded data removed]",
      "text/plain": [
       "<matplotlib.figure.Figure at 0x941bc50>"
      ]
     },
     "metadata": {},
     "output_type": "display_data"
    }
   ],
   "source": [
    "fig, ax = plt.subplots(1, figsize=[11, 6])\n",
    "last_index =14\n",
    "time_indices = np.arange(last_index) / 2+0.25\n",
    "plt.errorbar(time_indices+0.05, mov_5Hz[:last_index], mov_5Hz_std[:last_index], label = '5Hz', capsize = 0, color=color_dict[5])\n",
    "plt.errorbar(time_indices, mov_20Hz[:last_index], mov_20Hz_std[:last_index], label = '20Hz', capsize = 0, color=color_dict[20])\n",
    "plt.errorbar(time_indices-0.05, mov_40Hz[:last_index], mov_40Hz_std[:last_index], label = '40Hz', capsize = 0, color=color_dict[40])\n",
    "laser_times = [[1, 1.5], [2.5, 3], [4, 4.5], [5.5, 6]]\n",
    "for cur_laser in laser_times:\n",
    "    plt.axvspan(cur_laser[0], cur_laser[1], facecolor =  'k', alpha = 0.15)\n",
    "    \n",
    "plt.legend(frameon = False)\n",
    "prettify_axes(plt.gca())\n",
    "plt.xlabel('Time (min)')\n",
    "plt.ylabel('Immobile time (s)');\n",
    "fig.savefig('Training timecourse.png')"
   ]
  },
  {
   "cell_type": "markdown",
   "metadata": {},
   "source": [
    "## Plot freezing during test\n",
    "\n",
    "Calculate means"
   ]
  },
  {
   "cell_type": "code",
   "execution_count": 32,
   "metadata": {
    "collapsed": false
   },
   "outputs": [],
   "source": [
    "test_40Hz_mean = grouped_df_mean.loc['40Hz', '24hr Test'].immobile_roll_sum \n",
    "test_40Hz_mean = np.roll(test_40Hz_mean, 1)\n",
    "test_20Hz_mean = grouped_df_mean.loc['20Hz', '24hr Test'].immobile_roll_sum\n",
    "test_20Hz_mean = np.roll(test_20Hz_mean, 1)\n",
    "test_5Hz_mean = grouped_df_mean.loc['5Hz', '24hr Test'].immobile_roll_sum\n",
    "test_5Hz_mean = np.roll(test_5Hz_mean, 1)\n",
    "test_0Hz_mean = grouped_df_mean.loc['0Hz', '0hr Test'].immobile_roll_sum\n",
    "test_0Hz_mean = np.roll(test_0Hz_mean, 1)"
   ]
  },
  {
   "cell_type": "markdown",
   "metadata": {},
   "source": [
    "Calculate std's"
   ]
  },
  {
   "cell_type": "code",
   "execution_count": 33,
   "metadata": {
    "collapsed": false
   },
   "outputs": [],
   "source": [
    "test_40Hz_ste = grouped_df_std.loc['40Hz', '24hr Test'].immobile_roll_sum / np.sqrt(NUM_MICE_FREEZE)\n",
    "test_40Hz_ste = np.roll(test_40Hz_ste, 1)\n",
    "test_20Hz_ste = grouped_df_std.loc['20Hz', '24hr Test'].immobile_roll_sum / np.sqrt(NUM_MICE_FREEZE)\n",
    "test_20Hz_ste = np.roll(test_20Hz_ste, 1)\n",
    "test_5Hz_ste = grouped_df_std.loc['5Hz', '24hr Test'].immobile_roll_sum / np.sqrt(NUM_MICE_FREEZE)\n",
    "test_5Hz_ste = np.roll(test_5Hz_ste, 1)\n",
    "test_0Hz_ste = grouped_df_std.loc['0Hz', '0hr Test'].immobile_roll_sum / np.sqrt(NUM_MICE_FREEZE)\n",
    "test_0Hz_ste = np.roll(test_0Hz_ste, 1)"
   ]
  },
  {
   "cell_type": "code",
   "execution_count": 34,
   "metadata": {
    "collapsed": false
   },
   "outputs": [
    {
     "data": {
      "text/plain": [
       "(13,)"
      ]
     },
     "execution_count": 34,
     "metadata": {},
     "output_type": "execute_result"
    }
   ],
   "source": [
    "test_0Hz_mean.shape"
   ]
  },
  {
   "cell_type": "code",
   "execution_count": 35,
   "metadata": {
    "collapsed": false
   },
   "outputs": [
    {
     "data": {
      "image/png": "[encoded data removed]",
      "text/plain": [
       "<matplotlib.figure.Figure at 0x9671f98>"
      ]
     },
     "metadata": {},
     "output_type": "display_data"
    }
   ],
   "source": [
    "fig, ax = plt.subplots(1, figsize=[11, 6])\n",
    "last_index =4\n",
    "time_indices = np.arange(last_index) / 2+0.25\n",
    "plt.errorbar(time_indices[:4], test_0Hz_mean[:4] / 2, test_0Hz_ste[:4] / 2, label = '0', color=color_dict[0], capsize = 0)\n",
    "plt.errorbar(time_indices, test_5Hz_mean[:last_index] / 2, test_5Hz_ste[:last_index] / 2, label = '5', color=color_dict[5], capsize = 0)\n",
    "plt.errorbar(time_indices, test_20Hz_mean[:last_index] / 2, test_20Hz_ste[:last_index] / 2, label = '20', color=color_dict[20], capsize = 0)\n",
    "plt.errorbar(time_indices, test_40Hz_mean[:last_index] / 2, test_40Hz_ste[:last_index] / 2, label = '40', color=color_dict[40], capsize = 0)\n",
    "plt.legend(frameon = False)\n",
    "plt.xlabel('Time (min)')\n",
    "plt.ylabel('Freezing time (seconds)')\n",
    "prettify_axes(plt.gca())\n",
    "fig.savefig('Testing timecourse.png')"
   ]
  },
  {
   "cell_type": "code",
   "execution_count": 36,
   "metadata": {
    "collapsed": false
   },
   "outputs": [
    {
     "data": {
      "image/png": "[encoded data removed]",
      "text/plain": [
       "<matplotlib.figure.Figure at 0x9559a20>"
      ]
     },
     "metadata": {},
     "output_type": "display_data"
    }
   ],
   "source": [
    "fig, ax = plt.subplots(1, figsize = [8, 6])\n",
    "freeze_indices = np.array([0,  5, 20, 40])\n",
    "freq_means = np.array([test_0Hz_mean[0], test_5Hz_mean[0], test_20Hz_mean[0], test_40Hz_mean[0]]) * 6 / 5\n",
    "freq_stes = np.array([test_0Hz_ste[0],  test_5Hz_ste[0], test_20Hz_ste[0], test_40Hz_ste[0]])* 6 / 5\n",
    "plt.errorbar(freeze_indices, freq_means, freq_stes, capsize = 0, color = 'red')\n",
    "plt.xlim([-1, 50])\n",
    "plt.ylim([0, 60])\n",
    "plt.ylabel('Immobile duration (first minute)', fontsize = 20)\n",
    "plt.xlabel('Stimulation frequency (Hz)', fontsize = 20)\n",
    "plt.xticks([0,1,5,10,20,40])\n",
    "prettify_axes(plt.gca())\n",
    "fig.savefig('Frequency vs immobility.png')"
   ]
  },
  {
   "cell_type": "markdown",
   "metadata": {},
   "source": [
    "# CalcRL feeding"
   ]
  },
  {
   "cell_type": "code",
   "execution_count": 11,
   "metadata": {
    "collapsed": false
   },
   "outputs": [
    {
     "data": {
      "text/html": [
       "<div>\n",
       "<table border=\"1\" class=\"dataframe\">\n",
       "  <thead>\n",
       "    <tr style=\"text-align: right;\">\n",
       "      <th></th>\n",
       "      <th>mouse</th>\n",
       "      <th>Hz</th>\n",
       "      <th>start</th>\n",
       "      <th>stop</th>\n",
       "    </tr>\n",
       "  </thead>\n",
       "  <tbody>\n",
       "    <tr>\n",
       "      <th>0</th>\n",
       "      <td>136</td>\n",
       "      <td>1</td>\n",
       "      <td>0</td>\n",
       "      <td>8</td>\n",
       "    </tr>\n",
       "    <tr>\n",
       "      <th>1</th>\n",
       "      <td>136</td>\n",
       "      <td>1</td>\n",
       "      <td>10</td>\n",
       "      <td>18</td>\n",
       "    </tr>\n",
       "    <tr>\n",
       "      <th>2</th>\n",
       "      <td>136</td>\n",
       "      <td>1</td>\n",
       "      <td>22</td>\n",
       "      <td>36</td>\n",
       "    </tr>\n",
       "    <tr>\n",
       "      <th>3</th>\n",
       "      <td>136</td>\n",
       "      <td>1</td>\n",
       "      <td>43</td>\n",
       "      <td>60</td>\n",
       "    </tr>\n",
       "    <tr>\n",
       "      <th>4</th>\n",
       "      <td>136</td>\n",
       "      <td>5</td>\n",
       "      <td>0</td>\n",
       "      <td>1</td>\n",
       "    </tr>\n",
       "  </tbody>\n",
       "</table>\n",
       "</div>"
      ],
      "text/plain": [
       "   mouse  Hz  start  stop\n",
       "0    136   1      0     8\n",
       "1    136   1     10    18\n",
       "2    136   1     22    36\n",
       "3    136   1     43    60\n",
       "4    136   5      0     1"
      ]
     },
     "execution_count": 11,
     "metadata": {},
     "output_type": "execute_result"
    }
   ],
   "source": [
    "#feed_df = pd.read_csv('CalcRL feeding lick times - retry.csv', sep=';')\n",
    "feed_df = pd.read_csv('2016 CalcRL feeding frequency.csv', sep=';')\n",
    "feed_df.head()"
   ]
  },
  {
   "cell_type": "code",
   "execution_count": 12,
   "metadata": {
    "collapsed": false
   },
   "outputs": [
    {
     "data": {
      "text/html": [
       "<div>\n",
       "<table border=\"1\" class=\"dataframe\">\n",
       "  <thead>\n",
       "    <tr style=\"text-align: right;\">\n",
       "      <th></th>\n",
       "      <th>mouse</th>\n",
       "      <th>Hz</th>\n",
       "      <th>start</th>\n",
       "      <th>stop</th>\n",
       "      <th>duration</th>\n",
       "    </tr>\n",
       "  </thead>\n",
       "  <tbody>\n",
       "    <tr>\n",
       "      <th>0</th>\n",
       "      <td>136</td>\n",
       "      <td>1</td>\n",
       "      <td>0</td>\n",
       "      <td>8</td>\n",
       "      <td>8</td>\n",
       "    </tr>\n",
       "    <tr>\n",
       "      <th>1</th>\n",
       "      <td>136</td>\n",
       "      <td>1</td>\n",
       "      <td>10</td>\n",
       "      <td>18</td>\n",
       "      <td>8</td>\n",
       "    </tr>\n",
       "    <tr>\n",
       "      <th>2</th>\n",
       "      <td>136</td>\n",
       "      <td>1</td>\n",
       "      <td>22</td>\n",
       "      <td>36</td>\n",
       "      <td>14</td>\n",
       "    </tr>\n",
       "  </tbody>\n",
       "</table>\n",
       "</div>"
      ],
      "text/plain": [
       "   mouse  Hz  start  stop  duration\n",
       "0    136   1      0     8         8\n",
       "1    136   1     10    18         8\n",
       "2    136   1     22    36        14"
      ]
     },
     "execution_count": 12,
     "metadata": {},
     "output_type": "execute_result"
    }
   ],
   "source": [
    "feed_df['duration'] = feed_df.stop - feed_df.start\n",
    "feed_df.head(3)"
   ]
  },
  {
   "cell_type": "code",
   "execution_count": 13,
   "metadata": {
    "collapsed": false,
    "scrolled": true
   },
   "outputs": [
    {
     "data": {
      "text/html": [
       "<div>\n",
       "<table border=\"1\" class=\"dataframe\">\n",
       "  <thead>\n",
       "    <tr style=\"text-align: right;\">\n",
       "      <th></th>\n",
       "      <th></th>\n",
       "      <th>start</th>\n",
       "      <th>stop</th>\n",
       "      <th>duration</th>\n",
       "    </tr>\n",
       "    <tr>\n",
       "      <th>mouse</th>\n",
       "      <th>Hz</th>\n",
       "      <th></th>\n",
       "      <th></th>\n",
       "      <th></th>\n",
       "    </tr>\n",
       "  </thead>\n",
       "  <tbody>\n",
       "    <tr>\n",
       "      <th rowspan=\"3\" valign=\"top\">132</th>\n",
       "      <th>0</th>\n",
       "      <td>127</td>\n",
       "      <td>165</td>\n",
       "      <td>38</td>\n",
       "    </tr>\n",
       "    <tr>\n",
       "      <th>1</th>\n",
       "      <td>98</td>\n",
       "      <td>126</td>\n",
       "      <td>28</td>\n",
       "    </tr>\n",
       "    <tr>\n",
       "      <th>5</th>\n",
       "      <td>41</td>\n",
       "      <td>53</td>\n",
       "      <td>12</td>\n",
       "    </tr>\n",
       "  </tbody>\n",
       "</table>\n",
       "</div>"
      ],
      "text/plain": [
       "          start  stop  duration\n",
       "mouse Hz                       \n",
       "132   0     127   165        38\n",
       "      1      98   126        28\n",
       "      5      41    53        12"
      ]
     },
     "execution_count": 13,
     "metadata": {},
     "output_type": "execute_result"
    }
   ],
   "source": [
    "sum_feed_df = feed_df.groupby(['mouse', 'Hz']).sum()\n",
    "sum_feed_df.head(3)"
   ]
  },
  {
   "cell_type": "code",
   "execution_count": 14,
   "metadata": {
    "collapsed": false
   },
   "outputs": [
    {
     "data": {
      "text/html": [
       "<div>\n",
       "<table border=\"1\" class=\"dataframe\">\n",
       "  <thead>\n",
       "    <tr style=\"text-align: right;\">\n",
       "      <th></th>\n",
       "      <th>start</th>\n",
       "      <th>stop</th>\n",
       "      <th>duration</th>\n",
       "    </tr>\n",
       "    <tr>\n",
       "      <th>Hz</th>\n",
       "      <th></th>\n",
       "      <th></th>\n",
       "      <th></th>\n",
       "    </tr>\n",
       "  </thead>\n",
       "  <tbody>\n",
       "    <tr>\n",
       "      <th>0</th>\n",
       "      <td>57.000000</td>\n",
       "      <td>90.166667</td>\n",
       "      <td>33.166667</td>\n",
       "    </tr>\n",
       "    <tr>\n",
       "      <th>1</th>\n",
       "      <td>79.500000</td>\n",
       "      <td>110.166667</td>\n",
       "      <td>30.666667</td>\n",
       "    </tr>\n",
       "    <tr>\n",
       "      <th>5</th>\n",
       "      <td>42.166667</td>\n",
       "      <td>57.333333</td>\n",
       "      <td>15.166667</td>\n",
       "    </tr>\n",
       "    <tr>\n",
       "      <th>20</th>\n",
       "      <td>13.000000</td>\n",
       "      <td>17.333333</td>\n",
       "      <td>4.333333</td>\n",
       "    </tr>\n",
       "    <tr>\n",
       "      <th>40</th>\n",
       "      <td>14.333333</td>\n",
       "      <td>24.333333</td>\n",
       "      <td>10.000000</td>\n",
       "    </tr>\n",
       "  </tbody>\n",
       "</table>\n",
       "</div>"
      ],
      "text/plain": [
       "        start        stop   duration\n",
       "Hz                                  \n",
       "0   57.000000   90.166667  33.166667\n",
       "1   79.500000  110.166667  30.666667\n",
       "5   42.166667   57.333333  15.166667\n",
       "20  13.000000   17.333333   4.333333\n",
       "40  14.333333   24.333333  10.000000"
      ]
     },
     "execution_count": 14,
     "metadata": {},
     "output_type": "execute_result"
    }
   ],
   "source": [
    "mean_mouse_feed_df = sum_feed_df.groupby(level = 'Hz').mean()\n",
    "std_mouse_feed_df = sum_feed_df.groupby(level = 'Hz').std()\n",
    "mean_mouse_feed_df.head()"
   ]
  },
  {
   "cell_type": "code",
   "execution_count": 9,
   "metadata": {
    "collapsed": false
   },
   "outputs": [
    {
     "ename": "NameError",
     "evalue": "name 'test_0Hz_mean' is not defined",
     "output_type": "error",
     "traceback": [
      "\u001b[1;31m---------------------------------------------------------------------------\u001b[0m",
      "\u001b[1;31mNameError\u001b[0m                                 Traceback (most recent call last)",
      "\u001b[1;32m<ipython-input-9-f2e61526e8bd>\u001b[0m in \u001b[0;36m<module>\u001b[1;34m()\u001b[0m\n\u001b[0;32m      1\u001b[0m \u001b[0mfig\u001b[0m\u001b[1;33m,\u001b[0m \u001b[0max\u001b[0m \u001b[1;33m=\u001b[0m \u001b[0mplt\u001b[0m\u001b[1;33m.\u001b[0m\u001b[0msubplots\u001b[0m\u001b[1;33m(\u001b[0m\u001b[1;36m1\u001b[0m\u001b[1;33m,\u001b[0m \u001b[0mfigsize\u001b[0m\u001b[1;33m=\u001b[0m\u001b[1;33m[\u001b[0m\u001b[1;36m8\u001b[0m\u001b[1;33m,\u001b[0m \u001b[1;36m6\u001b[0m\u001b[1;33m]\u001b[0m\u001b[1;33m)\u001b[0m\u001b[1;33m\u001b[0m\u001b[0m\n\u001b[0;32m      2\u001b[0m \u001b[0mfreeze_indices\u001b[0m \u001b[1;33m=\u001b[0m \u001b[0mnp\u001b[0m\u001b[1;33m.\u001b[0m\u001b[0marray\u001b[0m\u001b[1;33m(\u001b[0m\u001b[1;33m[\u001b[0m\u001b[1;36m0\u001b[0m\u001b[1;33m,\u001b[0m  \u001b[1;36m5\u001b[0m\u001b[1;33m,\u001b[0m \u001b[1;36m20\u001b[0m\u001b[1;33m,\u001b[0m \u001b[1;36m40\u001b[0m\u001b[1;33m]\u001b[0m\u001b[1;33m)\u001b[0m\u001b[1;33m\u001b[0m\u001b[0m\n\u001b[1;32m----> 3\u001b[1;33m \u001b[0mfreq_means\u001b[0m \u001b[1;33m=\u001b[0m \u001b[0mnp\u001b[0m\u001b[1;33m.\u001b[0m\u001b[0marray\u001b[0m\u001b[1;33m(\u001b[0m\u001b[1;33m[\u001b[0m\u001b[0mtest_0Hz_mean\u001b[0m\u001b[1;33m[\u001b[0m\u001b[1;36m0\u001b[0m\u001b[1;33m]\u001b[0m\u001b[1;33m,\u001b[0m \u001b[0mtest_5Hz_mean\u001b[0m\u001b[1;33m[\u001b[0m\u001b[1;36m0\u001b[0m\u001b[1;33m]\u001b[0m\u001b[1;33m,\u001b[0m \u001b[0mtest_20Hz_mean\u001b[0m\u001b[1;33m[\u001b[0m\u001b[1;36m0\u001b[0m\u001b[1;33m]\u001b[0m\u001b[1;33m,\u001b[0m \u001b[0mtest_40Hz_mean\u001b[0m\u001b[1;33m[\u001b[0m\u001b[1;36m0\u001b[0m\u001b[1;33m]\u001b[0m\u001b[1;33m]\u001b[0m \u001b[1;33m)\u001b[0m\u001b[1;33m/\u001b[0m \u001b[1;36m48\u001b[0m\u001b[1;33m\u001b[0m\u001b[0m\n\u001b[0m\u001b[0;32m      4\u001b[0m \u001b[0mfreq_stes\u001b[0m \u001b[1;33m=\u001b[0m \u001b[0mnp\u001b[0m\u001b[1;33m.\u001b[0m\u001b[0marray\u001b[0m\u001b[1;33m(\u001b[0m\u001b[1;33m[\u001b[0m\u001b[0mtest_0Hz_ste\u001b[0m\u001b[1;33m[\u001b[0m\u001b[1;36m0\u001b[0m\u001b[1;33m]\u001b[0m\u001b[1;33m,\u001b[0m  \u001b[0mtest_5Hz_ste\u001b[0m\u001b[1;33m[\u001b[0m\u001b[1;36m0\u001b[0m\u001b[1;33m]\u001b[0m\u001b[1;33m,\u001b[0m \u001b[0mtest_20Hz_ste\u001b[0m\u001b[1;33m[\u001b[0m\u001b[1;36m0\u001b[0m\u001b[1;33m]\u001b[0m\u001b[1;33m,\u001b[0m \u001b[0mtest_40Hz_ste\u001b[0m\u001b[1;33m[\u001b[0m\u001b[1;36m0\u001b[0m\u001b[1;33m]\u001b[0m\u001b[1;33m]\u001b[0m \u001b[1;33m)\u001b[0m \u001b[1;33m/\u001b[0m \u001b[1;36m48\u001b[0m\u001b[1;33m\u001b[0m\u001b[0m\n\u001b[0;32m      5\u001b[0m \u001b[0mplt\u001b[0m\u001b[1;33m.\u001b[0m\u001b[0merrorbar\u001b[0m\u001b[1;33m(\u001b[0m\u001b[0mfreeze_indices\u001b[0m\u001b[1;33m,\u001b[0m  \u001b[1;36m100\u001b[0m \u001b[1;33m*\u001b[0m\u001b[0mfreq_means\u001b[0m\u001b[1;33m,\u001b[0m  \u001b[1;36m100\u001b[0m \u001b[1;33m*\u001b[0m\u001b[0mfreq_stes\u001b[0m\u001b[1;33m,\u001b[0m \u001b[0mlabel\u001b[0m \u001b[1;33m=\u001b[0m \u001b[1;34m'Freezing'\u001b[0m\u001b[1;33m,\u001b[0m \u001b[0mcolor\u001b[0m \u001b[1;33m=\u001b[0m \u001b[1;34m'r'\u001b[0m\u001b[1;33m,\u001b[0m \u001b[0mcapsize\u001b[0m \u001b[1;33m=\u001b[0m \u001b[1;36m0\u001b[0m\u001b[1;33m)\u001b[0m\u001b[1;33m\u001b[0m\u001b[0m\n",
      "\u001b[1;31mNameError\u001b[0m: name 'test_0Hz_mean' is not defined"
     ]
    },
    {
     "data": {
      "image/png": "[encoded data removed]",
      "text/plain": [
       "<matplotlib.figure.Figure at 0x888fb70>"
      ]
     },
     "metadata": {},
     "output_type": "display_data"
    }
   ],
   "source": [
    "fig, ax = plt.subplots(1, figsize=[8, 6])\n",
    "freeze_indices = np.array([0,  5, 20, 40])\n",
    "freq_means = np.array([test_0Hz_mean[0], test_5Hz_mean[0], test_20Hz_mean[0], test_40Hz_mean[0]] )/ 48\n",
    "freq_stes = np.array([test_0Hz_ste[0],  test_5Hz_ste[0], test_20Hz_ste[0], test_40Hz_ste[0]] ) / 48\n",
    "plt.errorbar(freeze_indices,  100 *freq_means,  100 *freq_stes, label = 'Freezing', color = 'r', capsize = 0)\n",
    "\n",
    "feed_indices = np.array([0, 1, 5, 20, 40])\n",
    "max_duration =  mean_mouse_feed_df['duration'][0]\n",
    "plt.errorbar(feed_indices, 100 *mean_mouse_feed_df['duration'] / max_duration,\n",
    "              100 *std_mouse_feed_df['duration'] / (max_duration * np.sqrt(NUM_MICE_FEED)),\n",
    "            label = 'Feeding', color = 'b', capsize = 0)\n",
    "plt.xlim([-1, 50])\n",
    "plt.ylim([0, 140])\n",
    "\n",
    "plt.ylabel('Freeze duration (% of time)\\nFeeding duration (% of 0Hz)')\n",
    "plt.xlabel('Stimulation frequency (Hz)')\n",
    "plt.xticks([0,1,5,10,20,40])\n",
    "prettify_axes(plt.gca())\n",
    "plt.legend(loc='upper right', frameon=False);\n",
    "fig.savefig('CalcRL Freezing vs Feeding.png');"
   ]
  },
  {
   "cell_type": "code",
   "execution_count": 15,
   "metadata": {
    "collapsed": false
   },
   "outputs": [
    {
     "data": {
      "image/png": "[encoded data removed]",
      "text/plain": [
       "<matplotlib.figure.Figure at 0x87009b0>"
      ]
     },
     "metadata": {},
     "output_type": "display_data"
    }
   ],
   "source": [
    "fig, ax = plt.subplots(1, figsize=[8, 6])\n",
    "feed_indices = np.array([0, 1, 5, 20, 40])\n",
    "max_duration =  mean_mouse_feed_df['duration'][0]\n",
    "plt.errorbar(feed_indices, 100 *mean_mouse_feed_df['duration'] / max_duration,\n",
    "              100 *std_mouse_feed_df['duration'] / (max_duration * np.sqrt(NUM_MICE_FEED)),\n",
    "            label = 'Feeding', color = 'b', capsize = 0)\n",
    "plt.xlim([-1, 50])\n",
    "plt.ylim([0, 140])\n",
    "\n",
    "plt.ylabel('Feeding duration (% of 0Hz)')\n",
    "plt.xlabel('Stimulation frequency (Hz)')\n",
    "plt.xticks([0,1,5,10,20,40])\n",
    "prettify_axes(plt.gca())\n",
    "#plt.legend(loc='lower right', frameon=False, fontsize = fs-4);\n",
    "fig.savefig('CalcRL Freezing vs Feeding.png');"
   ]
  },
  {
   "cell_type": "code",
   "execution_count": 18,
   "metadata": {
    "collapsed": false
   },
   "outputs": [
    {
     "data": {
      "text/html": [
       "<div>\n",
       "<table border=\"1\" class=\"dataframe\">\n",
       "  <thead>\n",
       "    <tr style=\"text-align: right;\">\n",
       "      <th></th>\n",
       "      <th></th>\n",
       "      <th>start</th>\n",
       "      <th>stop</th>\n",
       "      <th>duration</th>\n",
       "    </tr>\n",
       "    <tr>\n",
       "      <th>mouse</th>\n",
       "      <th>Hz</th>\n",
       "      <th></th>\n",
       "      <th></th>\n",
       "      <th></th>\n",
       "    </tr>\n",
       "  </thead>\n",
       "  <tbody>\n",
       "    <tr>\n",
       "      <th rowspan=\"5\" valign=\"top\">1</th>\n",
       "      <th>0</th>\n",
       "      <td>87</td>\n",
       "      <td>141</td>\n",
       "      <td>54</td>\n",
       "    </tr>\n",
       "    <tr>\n",
       "      <th>1</th>\n",
       "      <td>71</td>\n",
       "      <td>111</td>\n",
       "      <td>40</td>\n",
       "    </tr>\n",
       "    <tr>\n",
       "      <th>5</th>\n",
       "      <td>20</td>\n",
       "      <td>31</td>\n",
       "      <td>11</td>\n",
       "    </tr>\n",
       "    <tr>\n",
       "      <th>10</th>\n",
       "      <td>0</td>\n",
       "      <td>10</td>\n",
       "      <td>10</td>\n",
       "    </tr>\n",
       "    <tr>\n",
       "      <th>20</th>\n",
       "      <td>0</td>\n",
       "      <td>0</td>\n",
       "      <td>0</td>\n",
       "    </tr>\n",
       "    <tr>\n",
       "      <th rowspan=\"5\" valign=\"top\">2</th>\n",
       "      <th>0</th>\n",
       "      <td>123</td>\n",
       "      <td>175</td>\n",
       "      <td>52</td>\n",
       "    </tr>\n",
       "    <tr>\n",
       "      <th>1</th>\n",
       "      <td>100</td>\n",
       "      <td>154</td>\n",
       "      <td>54</td>\n",
       "    </tr>\n",
       "    <tr>\n",
       "      <th>5</th>\n",
       "      <td>86</td>\n",
       "      <td>122</td>\n",
       "      <td>36</td>\n",
       "    </tr>\n",
       "    <tr>\n",
       "      <th>10</th>\n",
       "      <td>0</td>\n",
       "      <td>2</td>\n",
       "      <td>2</td>\n",
       "    </tr>\n",
       "    <tr>\n",
       "      <th>20</th>\n",
       "      <td>0</td>\n",
       "      <td>1</td>\n",
       "      <td>1</td>\n",
       "    </tr>\n",
       "    <tr>\n",
       "      <th rowspan=\"5\" valign=\"top\">3</th>\n",
       "      <th>0</th>\n",
       "      <td>73</td>\n",
       "      <td>94</td>\n",
       "      <td>21</td>\n",
       "    </tr>\n",
       "    <tr>\n",
       "      <th>1</th>\n",
       "      <td>109</td>\n",
       "      <td>150</td>\n",
       "      <td>41</td>\n",
       "    </tr>\n",
       "    <tr>\n",
       "      <th>5</th>\n",
       "      <td>80</td>\n",
       "      <td>104</td>\n",
       "      <td>24</td>\n",
       "    </tr>\n",
       "    <tr>\n",
       "      <th>10</th>\n",
       "      <td>60</td>\n",
       "      <td>82</td>\n",
       "      <td>22</td>\n",
       "    </tr>\n",
       "    <tr>\n",
       "      <th>20</th>\n",
       "      <td>150</td>\n",
       "      <td>165</td>\n",
       "      <td>15</td>\n",
       "    </tr>\n",
       "    <tr>\n",
       "      <th rowspan=\"5\" valign=\"top\">4</th>\n",
       "      <th>0</th>\n",
       "      <td>74</td>\n",
       "      <td>94</td>\n",
       "      <td>20</td>\n",
       "    </tr>\n",
       "    <tr>\n",
       "      <th>1</th>\n",
       "      <td>115</td>\n",
       "      <td>159</td>\n",
       "      <td>44</td>\n",
       "    </tr>\n",
       "    <tr>\n",
       "      <th>5</th>\n",
       "      <td>115</td>\n",
       "      <td>146</td>\n",
       "      <td>31</td>\n",
       "    </tr>\n",
       "    <tr>\n",
       "      <th>10</th>\n",
       "      <td>0</td>\n",
       "      <td>1</td>\n",
       "      <td>1</td>\n",
       "    </tr>\n",
       "    <tr>\n",
       "      <th>20</th>\n",
       "      <td>0</td>\n",
       "      <td>1</td>\n",
       "      <td>1</td>\n",
       "    </tr>\n",
       "    <tr>\n",
       "      <th rowspan=\"5\" valign=\"top\">5</th>\n",
       "      <th>0</th>\n",
       "      <td>71</td>\n",
       "      <td>127</td>\n",
       "      <td>56</td>\n",
       "    </tr>\n",
       "    <tr>\n",
       "      <th>1</th>\n",
       "      <td>0</td>\n",
       "      <td>60</td>\n",
       "      <td>60</td>\n",
       "    </tr>\n",
       "    <tr>\n",
       "      <th>5</th>\n",
       "      <td>101</td>\n",
       "      <td>122</td>\n",
       "      <td>21</td>\n",
       "    </tr>\n",
       "    <tr>\n",
       "      <th>10</th>\n",
       "      <td>0</td>\n",
       "      <td>2</td>\n",
       "      <td>2</td>\n",
       "    </tr>\n",
       "    <tr>\n",
       "      <th>20</th>\n",
       "      <td>0</td>\n",
       "      <td>0</td>\n",
       "      <td>0</td>\n",
       "    </tr>\n",
       "    <tr>\n",
       "      <th rowspan=\"5\" valign=\"top\">1683</th>\n",
       "      <th>0</th>\n",
       "      <td>49</td>\n",
       "      <td>88</td>\n",
       "      <td>39</td>\n",
       "    </tr>\n",
       "    <tr>\n",
       "      <th>1</th>\n",
       "      <td>44</td>\n",
       "      <td>57</td>\n",
       "      <td>13</td>\n",
       "    </tr>\n",
       "    <tr>\n",
       "      <th>5</th>\n",
       "      <td>137</td>\n",
       "      <td>171</td>\n",
       "      <td>34</td>\n",
       "    </tr>\n",
       "    <tr>\n",
       "      <th>10</th>\n",
       "      <td>44</td>\n",
       "      <td>57</td>\n",
       "      <td>13</td>\n",
       "    </tr>\n",
       "    <tr>\n",
       "      <th>20</th>\n",
       "      <td>160</td>\n",
       "      <td>183</td>\n",
       "      <td>23</td>\n",
       "    </tr>\n",
       "    <tr>\n",
       "      <th rowspan=\"5\" valign=\"top\">2355</th>\n",
       "      <th>0</th>\n",
       "      <td>149</td>\n",
       "      <td>172</td>\n",
       "      <td>23</td>\n",
       "    </tr>\n",
       "    <tr>\n",
       "      <th>1</th>\n",
       "      <td>117</td>\n",
       "      <td>151</td>\n",
       "      <td>34</td>\n",
       "    </tr>\n",
       "    <tr>\n",
       "      <th>5</th>\n",
       "      <td>66</td>\n",
       "      <td>86</td>\n",
       "      <td>20</td>\n",
       "    </tr>\n",
       "    <tr>\n",
       "      <th>10</th>\n",
       "      <td>116</td>\n",
       "      <td>140</td>\n",
       "      <td>24</td>\n",
       "    </tr>\n",
       "    <tr>\n",
       "      <th>20</th>\n",
       "      <td>149</td>\n",
       "      <td>162</td>\n",
       "      <td>13</td>\n",
       "    </tr>\n",
       "  </tbody>\n",
       "</table>\n",
       "</div>"
      ],
      "text/plain": [
       "          start  stop  duration\n",
       "mouse Hz                       \n",
       "1     0      87   141        54\n",
       "      1      71   111        40\n",
       "      5      20    31        11\n",
       "      10      0    10        10\n",
       "      20      0     0         0\n",
       "2     0     123   175        52\n",
       "      1     100   154        54\n",
       "      5      86   122        36\n",
       "      10      0     2         2\n",
       "      20      0     1         1\n",
       "3     0      73    94        21\n",
       "      1     109   150        41\n",
       "      5      80   104        24\n",
       "      10     60    82        22\n",
       "      20    150   165        15\n",
       "4     0      74    94        20\n",
       "      1     115   159        44\n",
       "      5     115   146        31\n",
       "      10      0     1         1\n",
       "      20      0     1         1\n",
       "5     0      71   127        56\n",
       "      1       0    60        60\n",
       "      5     101   122        21\n",
       "      10      0     2         2\n",
       "      20      0     0         0\n",
       "1683  0      49    88        39\n",
       "      1      44    57        13\n",
       "      5     137   171        34\n",
       "      10     44    57        13\n",
       "      20    160   183        23\n",
       "2355  0     149   172        23\n",
       "      1     117   151        34\n",
       "      5      66    86        20\n",
       "      10    116   140        24\n",
       "      20    149   162        13"
      ]
     },
     "execution_count": 18,
     "metadata": {},
     "output_type": "execute_result"
    }
   ],
   "source": [
    "sum_feed_df"
   ]
  }
 ],
 "metadata": {
  "kernelspec": {
   "display_name": "Python 3",
   "language": "python",
   "name": "python3"
  },
  "language_info": {
   "codemirror_mode": {
    "name": "ipython",
    "version": 3
   },
   "file_extension": ".py",
   "mimetype": "text/x-python",
   "name": "python",
   "nbconvert_exporter": "python",
   "pygments_lexer": "ipython3",
   "version": "3.4.3"
  }
 },
 "nbformat": 4,
 "nbformat_minor": 0
}
