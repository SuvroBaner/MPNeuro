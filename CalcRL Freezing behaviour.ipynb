{
 "cells": [
  {
   "cell_type": "markdown",
   "metadata": {},
   "source": [
    "## Load in the data"
   ]
  },
  {
   "cell_type": "code",
   "execution_count": 66,
   "metadata": {
    "collapsed": true
   },
   "outputs": [],
   "source": [
    "import pandas as pd\n",
    "%matplotlib inline\n",
    "import matplotlib.pyplot as plt\n",
    "import numpy as np\n",
    "NUM_MICE_FREEZE = 6\n",
    "NUM_MICE_FEED = 7\n",
    "from MPNeuro.plotting import prettify_axes\n",
    "import importlib"
   ]
  },
  {
   "cell_type": "code",
   "execution_count": 2,
   "metadata": {
    "collapsed": false,
    "scrolled": true
   },
   "outputs": [
    {
     "data": {
      "text/html": [
       "<div>\n",
       "<table border=\"1\" class=\"dataframe\">\n",
       "  <thead>\n",
       "    <tr style=\"text-align: right;\">\n",
       "      <th></th>\n",
       "      <th>a</th>\n",
       "      <th>b</th>\n",
       "      <th>time</th>\n",
       "      <th>freq</th>\n",
       "      <th>mouse_id</th>\n",
       "      <th>train_test</th>\n",
       "      <th>distance</th>\n",
       "      <th>immobile_dur</th>\n",
       "    </tr>\n",
       "  </thead>\n",
       "  <tbody>\n",
       "    <tr>\n",
       "      <th>619</th>\n",
       "      <td>Result 1</td>\n",
       "      <td>Trial    51</td>\n",
       "      <td>0:00:27.500-0:00:55.000</td>\n",
       "      <td>0Hz</td>\n",
       "      <td>959</td>\n",
       "      <td>0hr Test</td>\n",
       "      <td>80.794</td>\n",
       "      <td>13.06650</td>\n",
       "    </tr>\n",
       "    <tr>\n",
       "      <th>620</th>\n",
       "      <td>Result 1</td>\n",
       "      <td>Trial    51</td>\n",
       "      <td>0:00:55.000-0:01:22.500</td>\n",
       "      <td>0Hz</td>\n",
       "      <td>959</td>\n",
       "      <td>0hr Test</td>\n",
       "      <td>123.181</td>\n",
       "      <td>0.00000</td>\n",
       "    </tr>\n",
       "    <tr>\n",
       "      <th>621</th>\n",
       "      <td>Result 1</td>\n",
       "      <td>Trial    51</td>\n",
       "      <td>0:01:22.500-0:01:50.000</td>\n",
       "      <td>0Hz</td>\n",
       "      <td>959</td>\n",
       "      <td>0hr Test</td>\n",
       "      <td>109.342</td>\n",
       "      <td>0.33333</td>\n",
       "    </tr>\n",
       "    <tr>\n",
       "      <th>618</th>\n",
       "      <td>Result 1</td>\n",
       "      <td>Trial    51</td>\n",
       "      <td>Start-0:00:27.500</td>\n",
       "      <td>0Hz</td>\n",
       "      <td>959</td>\n",
       "      <td>0hr Test</td>\n",
       "      <td>168.850</td>\n",
       "      <td>0.00000</td>\n",
       "    </tr>\n",
       "    <tr>\n",
       "      <th>627</th>\n",
       "      <td>Result 1</td>\n",
       "      <td>Trial    53</td>\n",
       "      <td>0:00:27.500-0:00:55.000</td>\n",
       "      <td>0Hz</td>\n",
       "      <td>962</td>\n",
       "      <td>0hr Test</td>\n",
       "      <td>162.220</td>\n",
       "      <td>0.00000</td>\n",
       "    </tr>\n",
       "  </tbody>\n",
       "</table>\n",
       "</div>"
      ],
      "text/plain": [
       "            a            b                     time freq  mouse_id train_test  \\\n",
       "619  Result 1  Trial    51  0:00:27.500-0:00:55.000  0Hz       959   0hr Test   \n",
       "620  Result 1  Trial    51  0:00:55.000-0:01:22.500  0Hz       959   0hr Test   \n",
       "621  Result 1  Trial    51  0:01:22.500-0:01:50.000  0Hz       959   0hr Test   \n",
       "618  Result 1  Trial    51        Start-0:00:27.500  0Hz       959   0hr Test   \n",
       "627  Result 1  Trial    53  0:00:27.500-0:00:55.000  0Hz       962   0hr Test   \n",
       "\n",
       "     distance  immobile_dur  \n",
       "619    80.794      13.06650  \n",
       "620   123.181       0.00000  \n",
       "621   109.342       0.33333  \n",
       "618   168.850       0.00000  \n",
       "627   162.220       0.00000  "
      ]
     },
     "execution_count": 2,
     "metadata": {},
     "output_type": "execute_result"
    }
   ],
   "source": [
    "col_names = ['a', 'b', 'time', 'freq', 'mouse_id', 'train_test', 'distance', 'immobile_dur', 'c']\n",
    "freeze_df = pd.read_csv('CalcRL freezing.csv', sep = ';', encoding='utf-16', skiprows=4, header=None)\n",
    "freeze_df.columns = col_names\n",
    "freeze_df.drop(freeze_df.columns[-1], axis = 1, inplace=True)\n",
    "freeze_df.sort(columns = ['freq', 'train_test', 'mouse_id', 'time'], inplace=True)\n",
    "freeze_df.head()"
   ]
  },
  {
   "cell_type": "code",
   "execution_count": 3,
   "metadata": {
    "collapsed": false
   },
   "outputs": [],
   "source": [
    "one_min_sum = freeze_df['immobile_dur'] + np.roll(freeze_df['immobile_dur'], -1)\n",
    "freeze_df['immobile_roll_sum'] = one_min_sum"
   ]
  },
  {
   "cell_type": "code",
   "execution_count": 4,
   "metadata": {
    "collapsed": false
   },
   "outputs": [
    {
     "data": {
      "text/html": [
       "<div>\n",
       "<table border=\"1\" class=\"dataframe\">\n",
       "  <thead>\n",
       "    <tr style=\"text-align: right;\">\n",
       "      <th></th>\n",
       "      <th></th>\n",
       "      <th></th>\n",
       "      <th>distance</th>\n",
       "      <th>immobile_dur</th>\n",
       "      <th>immobile_roll_sum</th>\n",
       "    </tr>\n",
       "    <tr>\n",
       "      <th>freq</th>\n",
       "      <th>train_test</th>\n",
       "      <th>time</th>\n",
       "      <th></th>\n",
       "      <th></th>\n",
       "      <th></th>\n",
       "    </tr>\n",
       "  </thead>\n",
       "  <tbody>\n",
       "    <tr>\n",
       "      <th rowspan=\"3\" valign=\"top\">0Hz</th>\n",
       "      <th rowspan=\"3\" valign=\"top\">0hr Test</th>\n",
       "      <th>0:00:27.500-0:00:55.000</th>\n",
       "      <td>97.499400</td>\n",
       "      <td>11.910982</td>\n",
       "      <td>20.416487</td>\n",
       "    </tr>\n",
       "    <tr>\n",
       "      <th>0:00:55.000-0:01:22.500</th>\n",
       "      <td>122.293433</td>\n",
       "      <td>8.505505</td>\n",
       "      <td>17.310850</td>\n",
       "    </tr>\n",
       "    <tr>\n",
       "      <th>0:01:22.500-0:01:50.000</th>\n",
       "      <td>61.931200</td>\n",
       "      <td>8.805345</td>\n",
       "      <td>10.483198</td>\n",
       "    </tr>\n",
       "  </tbody>\n",
       "</table>\n",
       "</div>"
      ],
      "text/plain": [
       "                                           distance  immobile_dur  \\\n",
       "freq train_test time                                                \n",
       "0Hz  0hr Test   0:00:27.500-0:00:55.000   97.499400     11.910982   \n",
       "                0:00:55.000-0:01:22.500  122.293433      8.505505   \n",
       "                0:01:22.500-0:01:50.000   61.931200      8.805345   \n",
       "\n",
       "                                         immobile_roll_sum  \n",
       "freq train_test time                                        \n",
       "0Hz  0hr Test   0:00:27.500-0:00:55.000          20.416487  \n",
       "                0:00:55.000-0:01:22.500          17.310850  \n",
       "                0:01:22.500-0:01:50.000          10.483198  "
      ]
     },
     "execution_count": 4,
     "metadata": {},
     "output_type": "execute_result"
    }
   ],
   "source": [
    "grouped_df_mean= freeze_df.groupby(['time', 'freq', 'train_test']).mean()\n",
    "grouped_df_mean.drop('mouse_id', axis = 1, inplace=True)\n",
    "grouped_df_mean.index = grouped_df_mean.index.swaplevel(0, 2)\n",
    "grouped_df_mean.index = grouped_df_mean.index.swaplevel(0, 1)\n",
    "grouped_df_mean.sortlevel(level = ['freq', 'train_test', 'time'], inplace=True)\n",
    "grouped_df_mean.head(3)"
   ]
  },
  {
   "cell_type": "code",
   "execution_count": 5,
   "metadata": {
    "collapsed": false
   },
   "outputs": [
    {
     "data": {
      "text/html": [
       "<div>\n",
       "<table border=\"1\" class=\"dataframe\">\n",
       "  <thead>\n",
       "    <tr style=\"text-align: right;\">\n",
       "      <th></th>\n",
       "      <th></th>\n",
       "      <th></th>\n",
       "      <th>distance</th>\n",
       "      <th>immobile_dur</th>\n",
       "      <th>immobile_roll_sum</th>\n",
       "    </tr>\n",
       "    <tr>\n",
       "      <th>freq</th>\n",
       "      <th>train_test</th>\n",
       "      <th>time</th>\n",
       "      <th></th>\n",
       "      <th></th>\n",
       "      <th></th>\n",
       "    </tr>\n",
       "  </thead>\n",
       "  <tbody>\n",
       "    <tr>\n",
       "      <th rowspan=\"3\" valign=\"top\">0Hz</th>\n",
       "      <th rowspan=\"3\" valign=\"top\">0hr Test</th>\n",
       "      <th>0:00:27.500-0:00:55.000</th>\n",
       "      <td>56.561819</td>\n",
       "      <td>10.470379</td>\n",
       "      <td>11.690783</td>\n",
       "    </tr>\n",
       "    <tr>\n",
       "      <th>0:00:55.000-0:01:22.500</th>\n",
       "      <td>40.855893</td>\n",
       "      <td>7.769607</td>\n",
       "      <td>12.158329</td>\n",
       "    </tr>\n",
       "    <tr>\n",
       "      <th>0:01:22.500-0:01:50.000</th>\n",
       "      <td>30.147056</td>\n",
       "      <td>7.481105</td>\n",
       "      <td>9.973600</td>\n",
       "    </tr>\n",
       "  </tbody>\n",
       "</table>\n",
       "</div>"
      ],
      "text/plain": [
       "                                          distance  immobile_dur  \\\n",
       "freq train_test time                                               \n",
       "0Hz  0hr Test   0:00:27.500-0:00:55.000  56.561819     10.470379   \n",
       "                0:00:55.000-0:01:22.500  40.855893      7.769607   \n",
       "                0:01:22.500-0:01:50.000  30.147056      7.481105   \n",
       "\n",
       "                                         immobile_roll_sum  \n",
       "freq train_test time                                        \n",
       "0Hz  0hr Test   0:00:27.500-0:00:55.000          11.690783  \n",
       "                0:00:55.000-0:01:22.500          12.158329  \n",
       "                0:01:22.500-0:01:50.000           9.973600  "
      ]
     },
     "execution_count": 5,
     "metadata": {},
     "output_type": "execute_result"
    }
   ],
   "source": [
    "grouped_df_std = freeze_df.groupby(['time', 'freq', 'train_test']).std()\n",
    "grouped_df_std.drop('mouse_id', axis = 1, inplace=True)\n",
    "#grouped_df_std.columns = ['dist_std', 'immobile_std']\n",
    "grouped_df_std.index = grouped_df_std.index.swaplevel(0, 2)\n",
    "grouped_df_std.index = grouped_df_std.index.swaplevel(0, 1)\n",
    "grouped_df_std.sortlevel(inplace=True)\n",
    "grouped_df_std.head(3)"
   ]
  },
  {
   "cell_type": "markdown",
   "metadata": {},
   "source": [
    "## Plot freezing during training"
   ]
  },
  {
   "cell_type": "code",
   "execution_count": 17,
   "metadata": {
    "collapsed": false
   },
   "outputs": [],
   "source": [
    "mov_40Hz = grouped_df_mean.loc['40Hz', 'Train'].immobile_dur\n",
    "mov_40Hz = np.roll(mov_40Hz, 1) \n",
    "mov_20Hz = grouped_df_mean.loc['20Hz', 'Train'].immobile_dur\n",
    "mov_20Hz = np.roll(mov_20Hz, 1) \n",
    "mov_5Hz = grouped_df_mean.loc['5Hz', 'Train'].immobile_dur\n",
    "mov_5Hz = np.roll(mov_5Hz, 1)\n",
    "\n",
    "mov_40Hz_std = grouped_df_std.loc['40Hz', 'Train'].immobile_dur\n",
    "mov_40Hz_std = np.roll(mov_40Hz_std, 1) / np.sqrt(NUM_MICE_FREEZE)\n",
    "mov_20Hz_std = grouped_df_std.loc['20Hz', 'Train'].immobile_dur\n",
    "mov_20Hz_std = np.roll(mov_20Hz_std, 1) / np.sqrt(NUM_MICE_FREEZE)\n",
    "mov_5Hz_std = grouped_df_std.loc['5Hz', 'Train'].immobile_dur\n",
    "mov_5Hz_std = np.roll(mov_5Hz_std, 1)/ np.sqrt(NUM_MICE_FREEZE)"
   ]
  },
  {
   "cell_type": "code",
   "execution_count": 7,
   "metadata": {
    "collapsed": false
   },
   "outputs": [
    {
     "data": {
      "text/plain": [
       "(17,)"
      ]
     },
     "execution_count": 7,
     "metadata": {},
     "output_type": "execute_result"
    }
   ],
   "source": [
    "mov_20Hz.shape"
   ]
  },
  {
   "cell_type": "code",
   "execution_count": 74,
   "metadata": {
    "collapsed": false
   },
   "outputs": [
    {
     "data": {
      "image/png": "[encoded data removed]",
      "text/plain": [
       "<matplotlib.figure.Figure at 0x85ce550>"
      ]
     },
     "metadata": {},
     "output_type": "display_data"
    }
   ],
   "source": [
    "fig, ax = plt.subplots(1, figsize=[11, 6])\n",
    "last_index =14\n",
    "time_indices = np.arange(last_index) / 2+0.25\n",
    "lw = 2\n",
    "plt.errorbar(time_indices, mov_5Hz[:last_index], mov_5Hz_std[:last_index], label = '5Hz', linewidth = lw)\n",
    "plt.errorbar(time_indices, mov_20Hz[:last_index], mov_20Hz_std[:last_index], label = '20Hz', linewidth = lw)\n",
    "plt.errorbar(time_indices, mov_40Hz[:last_index], mov_40Hz_std[:last_index], label = '40Hz', linewidth = lw)\n",
    "laser_times = [[1, 1.5], [2.5, 3], [4, 4.5], [5.5, 6]]\n",
    "for cur_laser in laser_times:\n",
    "    plt.axvspan(cur_laser[0], cur_laser[1], facecolor =  'k', alpha = 0.15)\n",
    "    \n",
    "fs = 20\n",
    "plt.legend(frameon = False, fontsize = fs-4)\n",
    "prettify_axes(plt.gca())\n",
    "plt.xlabel('Time (min)', fontsize = fs)\n",
    "plt.ylabel('Immobile time (s)', fontsize = fs);\n",
    "fig.savefig('Training timecourse.png')"
   ]
  },
  {
   "cell_type": "markdown",
   "metadata": {},
   "source": [
    "## Plot freezing during test\n",
    "\n",
    "Calculate means"
   ]
  },
  {
   "cell_type": "code",
   "execution_count": 45,
   "metadata": {
    "collapsed": false
   },
   "outputs": [],
   "source": [
    "test_40Hz_mean = grouped_df_mean.loc['40Hz', '24hr Test'].immobile_roll_sum \n",
    "test_40Hz_mean = np.roll(test_40Hz_mean, 1)\n",
    "test_20Hz_mean = grouped_df_mean.loc['20Hz', '24hr Test'].immobile_roll_sum\n",
    "test_20Hz_mean = np.roll(test_20Hz_mean, 1)\n",
    "test_5Hz_mean = grouped_df_mean.loc['5Hz', '24hr Test'].immobile_roll_sum\n",
    "test_5Hz_mean = np.roll(test_5Hz_mean, 1)\n",
    "test_0Hz_mean = grouped_df_mean.loc['0Hz', '0hr Test'].immobile_roll_sum\n",
    "test_0Hz_mean = np.roll(test_0Hz_mean, 1)"
   ]
  },
  {
   "cell_type": "markdown",
   "metadata": {},
   "source": [
    "Calculate std's"
   ]
  },
  {
   "cell_type": "code",
   "execution_count": 44,
   "metadata": {
    "collapsed": false
   },
   "outputs": [],
   "source": [
    "test_40Hz_ste = grouped_df_std.loc['40Hz', '24hr Test'].immobile_roll_sum / np.sqrt(NUM_MICE_FREEZE)\n",
    "test_40Hz_ste = np.roll(test_40Hz_ste, 1)\n",
    "test_20Hz_ste = grouped_df_std.loc['20Hz', '24hr Test'].immobile_roll_sum / np.sqrt(NUM_MICE_FREEZE)\n",
    "test_20Hz_ste = np.roll(test_20Hz_ste, 1)\n",
    "test_5Hz_ste = grouped_df_std.loc['5Hz', '24hr Test'].immobile_roll_sum / np.sqrt(NUM_MICE_FREEZE)\n",
    "test_5Hz_ste = np.roll(test_5Hz_ste, 1)\n",
    "test_0Hz_ste = grouped_df_std.loc['0Hz', '0hr Test'].immobile_roll_sum / np.sqrt(NUM_MICE_FREEZE)\n",
    "test_0Hz_ste = np.roll(test_0Hz_ste, 1)"
   ]
  },
  {
   "cell_type": "code",
   "execution_count": 75,
   "metadata": {
    "collapsed": false
   },
   "outputs": [
    {
     "data": {
      "image/png": "[encoded data removed]",
      "text/plain": [
       "<matplotlib.figure.Figure at 0x95e8f98>"
      ]
     },
     "metadata": {},
     "output_type": "display_data"
    }
   ],
   "source": [
    "fig, ax = plt.subplots(1, figsize=[11, 6])\n",
    "last_index =6\n",
    "time_indices = np.arange(last_index) / 2+0.25\n",
    "lw = 2\n",
    "plt.errorbar(time_indices[:4], test_0Hz_mean / 2, test_0Hz_ste / 2, label = '0', linewidth = lw)\n",
    "plt.errorbar(time_indices, test_5Hz_mean[:last_index] / 2, test_5Hz_ste[:last_index] / 2, label = '5', linewidth = lw)\n",
    "plt.errorbar(time_indices, test_20Hz_mean[:last_index] / 2, test_20Hz_ste[:last_index] / 2, label = '20', linewidth = lw)\n",
    "plt.errorbar(time_indices, test_40Hz_mean[:last_index] / 2, test_40Hz_ste[:last_index] / 2, label = '40', linewidth = lw)\n",
    "plt.legend(frameon = False, fontsize = fs-4)\n",
    "fs = 20\n",
    "plt.xlabel('Immobile time', fontsize = fs)\n",
    "plt.ylabel('Freezing time (seconds)', fontsize = fs)\n",
    "prettify_axes(plt.gca())\n",
    "fig.savefig('Testing timecourse.png')"
   ]
  },
  {
   "cell_type": "code",
   "execution_count": 76,
   "metadata": {
    "collapsed": false
   },
   "outputs": [
    {
     "data": {
      "image/png": "[encoded data removed]",
      "text/plain": [
       "<matplotlib.figure.Figure at 0x596d748>"
      ]
     },
     "metadata": {},
     "output_type": "display_data"
    }
   ],
   "source": [
    "fig, ax = plt.subplots(1, figsize = [8, 6])\n",
    "freeze_indices = np.array([0,  5, 20, 40])\n",
    "freq_means = [test_0Hz_mean[0], test_5Hz_mean[0], test_20Hz_mean[0], test_40Hz_mean[0]]\n",
    "freq_stes = [test_0Hz_ste[0],  test_5Hz_ste[0], test_20Hz_ste[0], test_40Hz_ste[0]]\n",
    "plt.errorbar(freeze_indices, freq_means, freq_stes, linewidth=2)\n",
    "plt.xlim([-1, 50])\n",
    "plt.ylim([0, 50])\n",
    "plt.ylabel('Immobile duration (first minute)', fontsize = 20)\n",
    "plt.xlabel('Stimulation frequency (Hz)', fontsize = 20)\n",
    "prettify_axes(plt.gca())\n",
    "fig.savefig('Frequency vs immobility.png')"
   ]
  },
  {
   "cell_type": "markdown",
   "metadata": {},
   "source": [
    "# CalcRL feeding"
   ]
  },
  {
   "cell_type": "code",
   "execution_count": 50,
   "metadata": {
    "collapsed": false
   },
   "outputs": [
    {
     "data": {
      "text/html": [
       "<div>\n",
       "<table border=\"1\" class=\"dataframe\">\n",
       "  <thead>\n",
       "    <tr style=\"text-align: right;\">\n",
       "      <th></th>\n",
       "      <th>mouse</th>\n",
       "      <th>Hz</th>\n",
       "      <th>start</th>\n",
       "      <th>stop</th>\n",
       "    </tr>\n",
       "  </thead>\n",
       "  <tbody>\n",
       "    <tr>\n",
       "      <th>0</th>\n",
       "      <td>1</td>\n",
       "      <td>1</td>\n",
       "      <td>0</td>\n",
       "      <td>6</td>\n",
       "    </tr>\n",
       "    <tr>\n",
       "      <th>1</th>\n",
       "      <td>1</td>\n",
       "      <td>1</td>\n",
       "      <td>8</td>\n",
       "      <td>19</td>\n",
       "    </tr>\n",
       "    <tr>\n",
       "      <th>2</th>\n",
       "      <td>1</td>\n",
       "      <td>1</td>\n",
       "      <td>22</td>\n",
       "      <td>34</td>\n",
       "    </tr>\n",
       "    <tr>\n",
       "      <th>3</th>\n",
       "      <td>1</td>\n",
       "      <td>1</td>\n",
       "      <td>41</td>\n",
       "      <td>52</td>\n",
       "    </tr>\n",
       "    <tr>\n",
       "      <th>4</th>\n",
       "      <td>1</td>\n",
       "      <td>5</td>\n",
       "      <td>0</td>\n",
       "      <td>10</td>\n",
       "    </tr>\n",
       "  </tbody>\n",
       "</table>\n",
       "</div>"
      ],
      "text/plain": [
       "   mouse  Hz  start  stop\n",
       "0      1   1      0     6\n",
       "1      1   1      8    19\n",
       "2      1   1     22    34\n",
       "3      1   1     41    52\n",
       "4      1   5      0    10"
      ]
     },
     "execution_count": 50,
     "metadata": {},
     "output_type": "execute_result"
    }
   ],
   "source": [
    "feed_df = pd.read_csv('CalcRL feeding lick times - retry.csv', sep=';')\n",
    "feed_df.head()"
   ]
  },
  {
   "cell_type": "code",
   "execution_count": 51,
   "metadata": {
    "collapsed": false
   },
   "outputs": [
    {
     "data": {
      "text/html": [
       "<div>\n",
       "<table border=\"1\" class=\"dataframe\">\n",
       "  <thead>\n",
       "    <tr style=\"text-align: right;\">\n",
       "      <th></th>\n",
       "      <th>mouse</th>\n",
       "      <th>Hz</th>\n",
       "      <th>start</th>\n",
       "      <th>stop</th>\n",
       "      <th>duration</th>\n",
       "    </tr>\n",
       "  </thead>\n",
       "  <tbody>\n",
       "    <tr>\n",
       "      <th>0</th>\n",
       "      <td>1</td>\n",
       "      <td>1</td>\n",
       "      <td>0</td>\n",
       "      <td>6</td>\n",
       "      <td>6</td>\n",
       "    </tr>\n",
       "    <tr>\n",
       "      <th>1</th>\n",
       "      <td>1</td>\n",
       "      <td>1</td>\n",
       "      <td>8</td>\n",
       "      <td>19</td>\n",
       "      <td>11</td>\n",
       "    </tr>\n",
       "    <tr>\n",
       "      <th>2</th>\n",
       "      <td>1</td>\n",
       "      <td>1</td>\n",
       "      <td>22</td>\n",
       "      <td>34</td>\n",
       "      <td>12</td>\n",
       "    </tr>\n",
       "  </tbody>\n",
       "</table>\n",
       "</div>"
      ],
      "text/plain": [
       "   mouse  Hz  start  stop  duration\n",
       "0      1   1      0     6         6\n",
       "1      1   1      8    19        11\n",
       "2      1   1     22    34        12"
      ]
     },
     "execution_count": 51,
     "metadata": {},
     "output_type": "execute_result"
    }
   ],
   "source": [
    "feed_df['duration'] = feed_df.stop - feed_df.start\n",
    "feed_df.head(3)"
   ]
  },
  {
   "cell_type": "code",
   "execution_count": 52,
   "metadata": {
    "collapsed": false,
    "scrolled": true
   },
   "outputs": [
    {
     "data": {
      "text/html": [
       "<div>\n",
       "<table border=\"1\" class=\"dataframe\">\n",
       "  <thead>\n",
       "    <tr style=\"text-align: right;\">\n",
       "      <th></th>\n",
       "      <th></th>\n",
       "      <th>start</th>\n",
       "      <th>stop</th>\n",
       "      <th>duration</th>\n",
       "    </tr>\n",
       "    <tr>\n",
       "      <th>mouse</th>\n",
       "      <th>Hz</th>\n",
       "      <th></th>\n",
       "      <th></th>\n",
       "      <th></th>\n",
       "    </tr>\n",
       "  </thead>\n",
       "  <tbody>\n",
       "    <tr>\n",
       "      <th rowspan=\"3\" valign=\"top\">1</th>\n",
       "      <th>0</th>\n",
       "      <td>87</td>\n",
       "      <td>141</td>\n",
       "      <td>54</td>\n",
       "    </tr>\n",
       "    <tr>\n",
       "      <th>1</th>\n",
       "      <td>71</td>\n",
       "      <td>111</td>\n",
       "      <td>40</td>\n",
       "    </tr>\n",
       "    <tr>\n",
       "      <th>5</th>\n",
       "      <td>20</td>\n",
       "      <td>31</td>\n",
       "      <td>11</td>\n",
       "    </tr>\n",
       "  </tbody>\n",
       "</table>\n",
       "</div>"
      ],
      "text/plain": [
       "          start  stop  duration\n",
       "mouse Hz                       \n",
       "1     0      87   141        54\n",
       "      1      71   111        40\n",
       "      5      20    31        11"
      ]
     },
     "execution_count": 52,
     "metadata": {},
     "output_type": "execute_result"
    }
   ],
   "source": [
    "sum_feed_df = feed_df.groupby(['mouse', 'Hz']).sum()\n",
    "sum_feed_df.head(3)"
   ]
  },
  {
   "cell_type": "code",
   "execution_count": 53,
   "metadata": {
    "collapsed": false
   },
   "outputs": [
    {
     "data": {
      "text/html": [
       "<div>\n",
       "<table border=\"1\" class=\"dataframe\">\n",
       "  <thead>\n",
       "    <tr style=\"text-align: right;\">\n",
       "      <th></th>\n",
       "      <th>start</th>\n",
       "      <th>stop</th>\n",
       "      <th>duration</th>\n",
       "    </tr>\n",
       "    <tr>\n",
       "      <th>Hz</th>\n",
       "      <th></th>\n",
       "      <th></th>\n",
       "      <th></th>\n",
       "    </tr>\n",
       "  </thead>\n",
       "  <tbody>\n",
       "    <tr>\n",
       "      <th>0</th>\n",
       "      <td>89.428571</td>\n",
       "      <td>127.285714</td>\n",
       "      <td>37.857143</td>\n",
       "    </tr>\n",
       "    <tr>\n",
       "      <th>1</th>\n",
       "      <td>79.428571</td>\n",
       "      <td>120.285714</td>\n",
       "      <td>40.857143</td>\n",
       "    </tr>\n",
       "    <tr>\n",
       "      <th>5</th>\n",
       "      <td>86.428571</td>\n",
       "      <td>111.714286</td>\n",
       "      <td>25.285714</td>\n",
       "    </tr>\n",
       "    <tr>\n",
       "      <th>10</th>\n",
       "      <td>31.428571</td>\n",
       "      <td>42.000000</td>\n",
       "      <td>10.571429</td>\n",
       "    </tr>\n",
       "    <tr>\n",
       "      <th>20</th>\n",
       "      <td>65.571429</td>\n",
       "      <td>73.142857</td>\n",
       "      <td>7.571429</td>\n",
       "    </tr>\n",
       "  </tbody>\n",
       "</table>\n",
       "</div>"
      ],
      "text/plain": [
       "        start        stop   duration\n",
       "Hz                                  \n",
       "0   89.428571  127.285714  37.857143\n",
       "1   79.428571  120.285714  40.857143\n",
       "5   86.428571  111.714286  25.285714\n",
       "10  31.428571   42.000000  10.571429\n",
       "20  65.571429   73.142857   7.571429"
      ]
     },
     "execution_count": 53,
     "metadata": {},
     "output_type": "execute_result"
    }
   ],
   "source": [
    "mean_mouse_feed_df = sum_feed_df.groupby(level = 'Hz').mean()\n",
    "std_mouse_feed_df = sum_feed_df.groupby(level = 'Hz').std()\n",
    "mean_mouse_feed_df.head()"
   ]
  },
  {
   "cell_type": "code",
   "execution_count": 77,
   "metadata": {
    "collapsed": false
   },
   "outputs": [
    {
     "data": {
      "image/png": "[encoded data removed]",
      "text/plain": [
       "<matplotlib.figure.Figure at 0x5a07278>"
      ]
     },
     "metadata": {},
     "output_type": "display_data"
    }
   ],
   "source": [
    "fig, ax = plt.subplots(1, figsize=[8, 6])\n",
    "freeze_indices = np.array([0,  5, 20, 40])\n",
    "freq_means = np.array([test_0Hz_mean[0], test_5Hz_mean[0], test_20Hz_mean[0], test_40Hz_mean[0]] )/ 60\n",
    "freq_stes = np.array([test_0Hz_ste[0],  test_5Hz_ste[0], test_20Hz_ste[0], test_40Hz_ste[0]] ) / 60\n",
    "lw = 2\n",
    "plt.errorbar(freeze_indices,  100 *freq_means,  100 *freq_stes, linewidth=lw, label = 'Freezing', color = 'r')\n",
    "\n",
    "feed_indices = np.array([0, 1, 5, 10, 20])\n",
    "max_duration =  mean_mouse_feed_df['duration'][0]\n",
    "plt.errorbar(feed_indices, 100 *mean_mouse_feed_df['duration'] / max_duration,\n",
    "              100 *std_mouse_feed_df['duration'] / (max_duration * np.sqrt(NUM_MICE_FEED)),\n",
    "            label = 'Feeding', linewidth = lw, color = 'b')\n",
    "plt.xlim([-1, 50])\n",
    "plt.ylim([0, 140])\n",
    "\n",
    "fs = 18\n",
    "plt.ylabel('Freeze duration (% of time)\\nFeeding duration (% of 0Hz)', fontsize = fs)\n",
    "plt.xlabel('Stimulation frequency (Hz)', fontsize = fs)\n",
    "plt.xticks([0,1,5,10,20,40])\n",
    "from MPNeuro.plotting import prettify_axes\n",
    "prettify_axes(plt.gca())\n",
    "plt.legend(loc='lower right', frameon=False, fontsize = fs-4);\n",
    "fig.savefig('CalcRL Freezing vs Feeding.png');"
   ]
  },
  {
   "cell_type": "code",
   "execution_count": null,
   "metadata": {
    "collapsed": true
   },
   "outputs": [],
   "source": []
  },
  {
   "cell_type": "code",
   "execution_count": 55,
   "metadata": {
    "collapsed": false
   },
   "outputs": [
    {
     "data": {
      "text/html": [
       "<div>\n",
       "<table border=\"1\" class=\"dataframe\">\n",
       "  <thead>\n",
       "    <tr style=\"text-align: right;\">\n",
       "      <th></th>\n",
       "      <th></th>\n",
       "      <th>start</th>\n",
       "      <th>stop</th>\n",
       "      <th>duration</th>\n",
       "    </tr>\n",
       "    <tr>\n",
       "      <th>mouse</th>\n",
       "      <th>Hz</th>\n",
       "      <th></th>\n",
       "      <th></th>\n",
       "      <th></th>\n",
       "    </tr>\n",
       "  </thead>\n",
       "  <tbody>\n",
       "    <tr>\n",
       "      <th rowspan=\"5\" valign=\"top\">1</th>\n",
       "      <th>0</th>\n",
       "      <td>87</td>\n",
       "      <td>141</td>\n",
       "      <td>54</td>\n",
       "    </tr>\n",
       "    <tr>\n",
       "      <th>1</th>\n",
       "      <td>71</td>\n",
       "      <td>111</td>\n",
       "      <td>40</td>\n",
       "    </tr>\n",
       "    <tr>\n",
       "      <th>5</th>\n",
       "      <td>20</td>\n",
       "      <td>31</td>\n",
       "      <td>11</td>\n",
       "    </tr>\n",
       "    <tr>\n",
       "      <th>10</th>\n",
       "      <td>0</td>\n",
       "      <td>10</td>\n",
       "      <td>10</td>\n",
       "    </tr>\n",
       "    <tr>\n",
       "      <th>20</th>\n",
       "      <td>0</td>\n",
       "      <td>0</td>\n",
       "      <td>0</td>\n",
       "    </tr>\n",
       "    <tr>\n",
       "      <th rowspan=\"5\" valign=\"top\">2</th>\n",
       "      <th>0</th>\n",
       "      <td>123</td>\n",
       "      <td>175</td>\n",
       "      <td>52</td>\n",
       "    </tr>\n",
       "    <tr>\n",
       "      <th>1</th>\n",
       "      <td>100</td>\n",
       "      <td>154</td>\n",
       "      <td>54</td>\n",
       "    </tr>\n",
       "    <tr>\n",
       "      <th>5</th>\n",
       "      <td>86</td>\n",
       "      <td>122</td>\n",
       "      <td>36</td>\n",
       "    </tr>\n",
       "    <tr>\n",
       "      <th>10</th>\n",
       "      <td>0</td>\n",
       "      <td>2</td>\n",
       "      <td>2</td>\n",
       "    </tr>\n",
       "    <tr>\n",
       "      <th>20</th>\n",
       "      <td>0</td>\n",
       "      <td>1</td>\n",
       "      <td>1</td>\n",
       "    </tr>\n",
       "    <tr>\n",
       "      <th rowspan=\"5\" valign=\"top\">3</th>\n",
       "      <th>0</th>\n",
       "      <td>73</td>\n",
       "      <td>94</td>\n",
       "      <td>21</td>\n",
       "    </tr>\n",
       "    <tr>\n",
       "      <th>1</th>\n",
       "      <td>109</td>\n",
       "      <td>150</td>\n",
       "      <td>41</td>\n",
       "    </tr>\n",
       "    <tr>\n",
       "      <th>5</th>\n",
       "      <td>80</td>\n",
       "      <td>104</td>\n",
       "      <td>24</td>\n",
       "    </tr>\n",
       "    <tr>\n",
       "      <th>10</th>\n",
       "      <td>60</td>\n",
       "      <td>82</td>\n",
       "      <td>22</td>\n",
       "    </tr>\n",
       "    <tr>\n",
       "      <th>20</th>\n",
       "      <td>150</td>\n",
       "      <td>165</td>\n",
       "      <td>15</td>\n",
       "    </tr>\n",
       "    <tr>\n",
       "      <th rowspan=\"5\" valign=\"top\">4</th>\n",
       "      <th>0</th>\n",
       "      <td>74</td>\n",
       "      <td>94</td>\n",
       "      <td>20</td>\n",
       "    </tr>\n",
       "    <tr>\n",
       "      <th>1</th>\n",
       "      <td>115</td>\n",
       "      <td>159</td>\n",
       "      <td>44</td>\n",
       "    </tr>\n",
       "    <tr>\n",
       "      <th>5</th>\n",
       "      <td>115</td>\n",
       "      <td>146</td>\n",
       "      <td>31</td>\n",
       "    </tr>\n",
       "    <tr>\n",
       "      <th>10</th>\n",
       "      <td>0</td>\n",
       "      <td>1</td>\n",
       "      <td>1</td>\n",
       "    </tr>\n",
       "    <tr>\n",
       "      <th>20</th>\n",
       "      <td>0</td>\n",
       "      <td>1</td>\n",
       "      <td>1</td>\n",
       "    </tr>\n",
       "    <tr>\n",
       "      <th rowspan=\"5\" valign=\"top\">5</th>\n",
       "      <th>0</th>\n",
       "      <td>71</td>\n",
       "      <td>127</td>\n",
       "      <td>56</td>\n",
       "    </tr>\n",
       "    <tr>\n",
       "      <th>1</th>\n",
       "      <td>0</td>\n",
       "      <td>60</td>\n",
       "      <td>60</td>\n",
       "    </tr>\n",
       "    <tr>\n",
       "      <th>5</th>\n",
       "      <td>101</td>\n",
       "      <td>122</td>\n",
       "      <td>21</td>\n",
       "    </tr>\n",
       "    <tr>\n",
       "      <th>10</th>\n",
       "      <td>0</td>\n",
       "      <td>2</td>\n",
       "      <td>2</td>\n",
       "    </tr>\n",
       "    <tr>\n",
       "      <th>20</th>\n",
       "      <td>0</td>\n",
       "      <td>0</td>\n",
       "      <td>0</td>\n",
       "    </tr>\n",
       "    <tr>\n",
       "      <th rowspan=\"5\" valign=\"top\">1683</th>\n",
       "      <th>0</th>\n",
       "      <td>49</td>\n",
       "      <td>88</td>\n",
       "      <td>39</td>\n",
       "    </tr>\n",
       "    <tr>\n",
       "      <th>1</th>\n",
       "      <td>44</td>\n",
       "      <td>57</td>\n",
       "      <td>13</td>\n",
       "    </tr>\n",
       "    <tr>\n",
       "      <th>5</th>\n",
       "      <td>137</td>\n",
       "      <td>171</td>\n",
       "      <td>34</td>\n",
       "    </tr>\n",
       "    <tr>\n",
       "      <th>10</th>\n",
       "      <td>44</td>\n",
       "      <td>57</td>\n",
       "      <td>13</td>\n",
       "    </tr>\n",
       "    <tr>\n",
       "      <th>20</th>\n",
       "      <td>160</td>\n",
       "      <td>183</td>\n",
       "      <td>23</td>\n",
       "    </tr>\n",
       "    <tr>\n",
       "      <th rowspan=\"5\" valign=\"top\">2355</th>\n",
       "      <th>0</th>\n",
       "      <td>149</td>\n",
       "      <td>172</td>\n",
       "      <td>23</td>\n",
       "    </tr>\n",
       "    <tr>\n",
       "      <th>1</th>\n",
       "      <td>117</td>\n",
       "      <td>151</td>\n",
       "      <td>34</td>\n",
       "    </tr>\n",
       "    <tr>\n",
       "      <th>5</th>\n",
       "      <td>66</td>\n",
       "      <td>86</td>\n",
       "      <td>20</td>\n",
       "    </tr>\n",
       "    <tr>\n",
       "      <th>10</th>\n",
       "      <td>116</td>\n",
       "      <td>140</td>\n",
       "      <td>24</td>\n",
       "    </tr>\n",
       "    <tr>\n",
       "      <th>20</th>\n",
       "      <td>149</td>\n",
       "      <td>162</td>\n",
       "      <td>13</td>\n",
       "    </tr>\n",
       "  </tbody>\n",
       "</table>\n",
       "</div>"
      ],
      "text/plain": [
       "          start  stop  duration\n",
       "mouse Hz                       \n",
       "1     0      87   141        54\n",
       "      1      71   111        40\n",
       "      5      20    31        11\n",
       "      10      0    10        10\n",
       "      20      0     0         0\n",
       "2     0     123   175        52\n",
       "      1     100   154        54\n",
       "      5      86   122        36\n",
       "      10      0     2         2\n",
       "      20      0     1         1\n",
       "3     0      73    94        21\n",
       "      1     109   150        41\n",
       "      5      80   104        24\n",
       "      10     60    82        22\n",
       "      20    150   165        15\n",
       "4     0      74    94        20\n",
       "      1     115   159        44\n",
       "      5     115   146        31\n",
       "      10      0     1         1\n",
       "      20      0     1         1\n",
       "5     0      71   127        56\n",
       "      1       0    60        60\n",
       "      5     101   122        21\n",
       "      10      0     2         2\n",
       "      20      0     0         0\n",
       "1683  0      49    88        39\n",
       "      1      44    57        13\n",
       "      5     137   171        34\n",
       "      10     44    57        13\n",
       "      20    160   183        23\n",
       "2355  0     149   172        23\n",
       "      1     117   151        34\n",
       "      5      66    86        20\n",
       "      10    116   140        24\n",
       "      20    149   162        13"
      ]
     },
     "execution_count": 55,
     "metadata": {},
     "output_type": "execute_result"
    }
   ],
   "source": [
    "sum_feed_df"
   ]
  },
  {
   "cell_type": "code",
   "execution_count": null,
   "metadata": {
    "collapsed": true
   },
   "outputs": [],
   "source": []
  }
 ],
 "metadata": {
  "kernelspec": {
   "display_name": "Python 3",
   "language": "python",
   "name": "python3"
  },
  "language_info": {
   "codemirror_mode": {
    "name": "ipython",
    "version": 3
   },
   "file_extension": ".py",
   "mimetype": "text/x-python",
   "name": "python",
   "nbconvert_exporter": "python",
   "pygments_lexer": "ipython3",
   "version": "3.4.3"
  }
 },
 "nbformat": 4,
 "nbformat_minor": 0
}
