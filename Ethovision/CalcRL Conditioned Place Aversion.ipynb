{
 "cells": [
  {
   "cell_type": "markdown",
   "metadata": {},
   "source": [
    "## Load in the data"
   ]
  },
  {
   "cell_type": "code",
   "execution_count": 1,
   "metadata": {
    "collapsed": true
   },
   "outputs": [],
   "source": [
    "import pandas as pd\n",
    "%matplotlib inline\n",
    "import matplotlib.pyplot as plt\n",
    "import numpy as np\n",
    "NUM_MICE_FREEZE = 3\n",
    "NUM_MICE_FEED = 3\n",
    "from MPNeuro.plotting import prettify_axes\n",
    "import importlib"
   ]
  },
  {
   "cell_type": "code",
   "execution_count": 2,
   "metadata": {
    "collapsed": false
   },
   "outputs": [],
   "source": [
    "import matplotlib as mpl\n",
    "mpl.rc('font', size = 20)\n",
    "color_dict = {5: 'blue', 20:'red', 40:'black', 0:'orange'}\n",
    "mpl.rc('lines', linewidth=3)"
   ]
  },
  {
   "cell_type": "code",
   "execution_count": 20,
   "metadata": {
    "collapsed": false,
    "scrolled": true
   },
   "outputs": [
    {
     "data": {
      "text/html": [
       "<div>\n",
       "<table border=\"1\" class=\"dataframe\">\n",
       "  <thead>\n",
       "    <tr style=\"text-align: right;\">\n",
       "      <th></th>\n",
       "      <th>a</th>\n",
       "      <th>b</th>\n",
       "      <th>time</th>\n",
       "      <th>freq</th>\n",
       "      <th>mouse_id</th>\n",
       "      <th>train_test</th>\n",
       "      <th>distance</th>\n",
       "      <th>immobile_dur</th>\n",
       "    </tr>\n",
       "  </thead>\n",
       "  <tbody>\n",
       "    <tr>\n",
       "      <th>1</th>\n",
       "      <td>Result 1</td>\n",
       "      <td>Trial     1</td>\n",
       "      <td>0:00:25-0:00:50</td>\n",
       "      <td>0Hz</td>\n",
       "      <td>MP132</td>\n",
       "      <td>0hr Test</td>\n",
       "      <td>134.469</td>\n",
       "      <td>3.99996</td>\n",
       "    </tr>\n",
       "    <tr>\n",
       "      <th>2</th>\n",
       "      <td>Result 1</td>\n",
       "      <td>Trial     1</td>\n",
       "      <td>0:00:50-0:01:15</td>\n",
       "      <td>0Hz</td>\n",
       "      <td>MP132</td>\n",
       "      <td>0hr Test</td>\n",
       "      <td>101.111</td>\n",
       "      <td>2.66739</td>\n",
       "    </tr>\n",
       "    <tr>\n",
       "      <th>3</th>\n",
       "      <td>Result 1</td>\n",
       "      <td>Trial     1</td>\n",
       "      <td>0:01:15-0:01:40</td>\n",
       "      <td>0Hz</td>\n",
       "      <td>MP132</td>\n",
       "      <td>0hr Test</td>\n",
       "      <td>95.698</td>\n",
       "      <td>9.06683</td>\n",
       "    </tr>\n",
       "  </tbody>\n",
       "</table>\n",
       "</div>"
      ],
      "text/plain": [
       "          a            b             time freq mouse_id train_test  distance  \\\n",
       "1  Result 1  Trial     1  0:00:25-0:00:50  0Hz    MP132   0hr Test   134.469   \n",
       "2  Result 1  Trial     1  0:00:50-0:01:15  0Hz    MP132   0hr Test   101.111   \n",
       "3  Result 1  Trial     1  0:01:15-0:01:40  0Hz    MP132   0hr Test    95.698   \n",
       "\n",
       "   immobile_dur  \n",
       "1       3.99996  \n",
       "2       2.66739  \n",
       "3       9.06683  "
      ]
     },
     "execution_count": 20,
     "metadata": {},
     "output_type": "execute_result"
    }
   ],
   "source": [
    "col_names = ['a', 'b', 'time', 'freq', 'mouse_id', 'train_test', 'distance', 'immobile_dur', 'c']\n",
    "#freeze_df = pd.read_csv('CalcRL freezing.csv', sep = ';', encoding='utf-16', skiprows=4, header=None)\n",
    "freeze_df = pd.read_csv('2016-Feb CalcRL frequency dependent freezing2.csv', sep = ';', encoding='utf-16', skiprows=4, header=None)\n",
    "freeze_df2 = pd.read_csv('2016-Mar CalcRL frequency dependent freezing2.csv', sep = ';', encoding='utf-16', skiprows=4, header=None)\n",
    "freeze_df2.columns = col_names\n",
    "freeze_df.columns = col_names\n",
    "freeze_df.drop(col_names[-1], axis = 1, inplace=True)\n",
    "freeze_df2.drop(col_names[-1], axis = 1, inplace=True)\n",
    "freeze_df.sort_values(by = ['freq', 'train_test', 'mouse_id', 'time'], inplace=True)\n",
    "freeze_df2.sort_values(by = ['freq', 'train_test', 'mouse_id', 'time'], inplace=True)\n",
    "freeze_df.head(3)"
   ]
  },
  {
   "cell_type": "code",
   "execution_count": 9,
   "metadata": {
    "collapsed": true
   },
   "outputs": [],
   "source": [
    "one_min_sum = freeze_df['immobile_dur'] + np.roll(freeze_df['immobile_dur'], -1)\n",
    "freeze_df['immobile_roll_sum'] = one_min_sum\n",
    "one_min_sum = freeze_df2['immobile_dur'] + np.roll(freeze_df2['immobile_dur'], -1)\n",
    "freeze_df2['immobile_roll_sum'] = one_min_sum"
   ]
  },
  {
   "cell_type": "code",
   "execution_count": 10,
   "metadata": {
    "collapsed": false
   },
   "outputs": [
    {
     "data": {
      "text/html": [
       "<div>\n",
       "<table border=\"1\" class=\"dataframe\">\n",
       "  <thead>\n",
       "    <tr style=\"text-align: right;\">\n",
       "      <th></th>\n",
       "      <th>a</th>\n",
       "      <th>b</th>\n",
       "      <th>time</th>\n",
       "      <th>freq</th>\n",
       "      <th>mouse_id</th>\n",
       "      <th>train_test</th>\n",
       "      <th>distance</th>\n",
       "      <th>immobile_dur</th>\n",
       "      <th>immobile_roll_sum</th>\n",
       "    </tr>\n",
       "  </thead>\n",
       "  <tbody>\n",
       "    <tr>\n",
       "      <th>1</th>\n",
       "      <td>Result 1</td>\n",
       "      <td>Trial     1</td>\n",
       "      <td>0:00:25-0:00:50</td>\n",
       "      <td>0Hz</td>\n",
       "      <td>MP132</td>\n",
       "      <td>0hr Test</td>\n",
       "      <td>134.4690</td>\n",
       "      <td>3.99996</td>\n",
       "      <td>6.66735</td>\n",
       "    </tr>\n",
       "    <tr>\n",
       "      <th>2</th>\n",
       "      <td>Result 1</td>\n",
       "      <td>Trial     1</td>\n",
       "      <td>0:00:50-0:01:15</td>\n",
       "      <td>0Hz</td>\n",
       "      <td>MP132</td>\n",
       "      <td>0hr Test</td>\n",
       "      <td>101.1110</td>\n",
       "      <td>2.66739</td>\n",
       "      <td>11.73422</td>\n",
       "    </tr>\n",
       "    <tr>\n",
       "      <th>3</th>\n",
       "      <td>Result 1</td>\n",
       "      <td>Trial     1</td>\n",
       "      <td>0:01:15-0:01:40</td>\n",
       "      <td>0Hz</td>\n",
       "      <td>MP132</td>\n",
       "      <td>0hr Test</td>\n",
       "      <td>95.6980</td>\n",
       "      <td>9.06683</td>\n",
       "      <td>30.80023</td>\n",
       "    </tr>\n",
       "    <tr>\n",
       "      <th>4</th>\n",
       "      <td>Result 1</td>\n",
       "      <td>Trial     1</td>\n",
       "      <td>0:01:40-0:02:05</td>\n",
       "      <td>0Hz</td>\n",
       "      <td>MP132</td>\n",
       "      <td>0hr Test</td>\n",
       "      <td>26.2970</td>\n",
       "      <td>21.73340</td>\n",
       "      <td>37.86680</td>\n",
       "    </tr>\n",
       "    <tr>\n",
       "      <th>5</th>\n",
       "      <td>Result 1</td>\n",
       "      <td>Trial     1</td>\n",
       "      <td>0:02:05-0:02:30</td>\n",
       "      <td>0Hz</td>\n",
       "      <td>MP132</td>\n",
       "      <td>0hr Test</td>\n",
       "      <td>54.8678</td>\n",
       "      <td>16.13340</td>\n",
       "      <td>23.73182</td>\n",
       "    </tr>\n",
       "  </tbody>\n",
       "</table>\n",
       "</div>"
      ],
      "text/plain": [
       "          a            b             time freq mouse_id train_test  distance  \\\n",
       "1  Result 1  Trial     1  0:00:25-0:00:50  0Hz    MP132   0hr Test  134.4690   \n",
       "2  Result 1  Trial     1  0:00:50-0:01:15  0Hz    MP132   0hr Test  101.1110   \n",
       "3  Result 1  Trial     1  0:01:15-0:01:40  0Hz    MP132   0hr Test   95.6980   \n",
       "4  Result 1  Trial     1  0:01:40-0:02:05  0Hz    MP132   0hr Test   26.2970   \n",
       "5  Result 1  Trial     1  0:02:05-0:02:30  0Hz    MP132   0hr Test   54.8678   \n",
       "\n",
       "   immobile_dur  immobile_roll_sum  \n",
       "1       3.99996            6.66735  \n",
       "2       2.66739           11.73422  \n",
       "3       9.06683           30.80023  \n",
       "4      21.73340           37.86680  \n",
       "5      16.13340           23.73182  "
      ]
     },
     "execution_count": 10,
     "metadata": {},
     "output_type": "execute_result"
    }
   ],
   "source": [
    "freeze_df.head()"
   ]
  },
  {
   "cell_type": "markdown",
   "metadata": {},
   "source": [
    "### Calculate means and std for each set of experiments"
   ]
  },
  {
   "cell_type": "code",
   "execution_count": 11,
   "metadata": {
    "collapsed": false
   },
   "outputs": [
    {
     "data": {
      "text/html": [
       "<div>\n",
       "<table border=\"1\" class=\"dataframe\">\n",
       "  <thead>\n",
       "    <tr style=\"text-align: right;\">\n",
       "      <th></th>\n",
       "      <th></th>\n",
       "      <th></th>\n",
       "      <th>distance</th>\n",
       "      <th>immobile_dur</th>\n",
       "      <th>immobile_roll_sum</th>\n",
       "    </tr>\n",
       "    <tr>\n",
       "      <th>freq</th>\n",
       "      <th>train_test</th>\n",
       "      <th>time</th>\n",
       "      <th></th>\n",
       "      <th></th>\n",
       "      <th></th>\n",
       "    </tr>\n",
       "  </thead>\n",
       "  <tbody>\n",
       "    <tr>\n",
       "      <th rowspan=\"3\" valign=\"top\">0Hz</th>\n",
       "      <th rowspan=\"3\" valign=\"top\">0hr Test</th>\n",
       "      <th>0:00:25-0:00:50</th>\n",
       "      <td>122.413667</td>\n",
       "      <td>3.644407</td>\n",
       "      <td>8.800170</td>\n",
       "    </tr>\n",
       "    <tr>\n",
       "      <th>0:00:50-0:01:15</th>\n",
       "      <td>110.346467</td>\n",
       "      <td>5.155763</td>\n",
       "      <td>10.578017</td>\n",
       "    </tr>\n",
       "    <tr>\n",
       "      <th>0:01:15-0:01:40</th>\n",
       "      <td>98.739033</td>\n",
       "      <td>5.422253</td>\n",
       "      <td>22.244820</td>\n",
       "    </tr>\n",
       "  </tbody>\n",
       "</table>\n",
       "</div>"
      ],
      "text/plain": [
       "                                   distance  immobile_dur  immobile_roll_sum\n",
       "freq train_test time                                                        \n",
       "0Hz  0hr Test   0:00:25-0:00:50  122.413667      3.644407           8.800170\n",
       "                0:00:50-0:01:15  110.346467      5.155763          10.578017\n",
       "                0:01:15-0:01:40   98.739033      5.422253          22.244820"
      ]
     },
     "execution_count": 11,
     "metadata": {},
     "output_type": "execute_result"
    }
   ],
   "source": [
    "grouped_df_mean= freeze_df.groupby(['time', 'freq', 'train_test']).mean()\n",
    "#grouped_df_mean.drop('mouse_id', axis = 1, inplace=True)\n",
    "grouped_df_mean.index = grouped_df_mean.index.swaplevel(0, 2)\n",
    "grouped_df_mean.index = grouped_df_mean.index.swaplevel(0, 1)\n",
    "grouped_df_mean.sortlevel(level = ['freq', 'train_test', 'time'], inplace=True)\n",
    "grouped_df_mean.head(3)"
   ]
  },
  {
   "cell_type": "code",
   "execution_count": 18,
   "metadata": {
    "collapsed": false
   },
   "outputs": [
    {
     "data": {
      "text/html": [
       "<div>\n",
       "<table border=\"1\" class=\"dataframe\">\n",
       "  <thead>\n",
       "    <tr style=\"text-align: right;\">\n",
       "      <th></th>\n",
       "      <th></th>\n",
       "      <th></th>\n",
       "      <th>distance</th>\n",
       "      <th>immobile_dur</th>\n",
       "      <th>immobile_roll_sum</th>\n",
       "    </tr>\n",
       "    <tr>\n",
       "      <th>freq</th>\n",
       "      <th>train_test</th>\n",
       "      <th>time</th>\n",
       "      <th></th>\n",
       "      <th></th>\n",
       "      <th></th>\n",
       "    </tr>\n",
       "  </thead>\n",
       "  <tbody>\n",
       "    <tr>\n",
       "      <th rowspan=\"2\" valign=\"top\">0Hz</th>\n",
       "      <th rowspan=\"2\" valign=\"top\">0hr Test</th>\n",
       "      <th>0:00:25-0:00:50</th>\n",
       "      <td>12.366434</td>\n",
       "      <td>0.826185</td>\n",
       "      <td>7.400810</td>\n",
       "    </tr>\n",
       "    <tr>\n",
       "      <th>0:00:50-0:01:15</th>\n",
       "      <td>39.545074</td>\n",
       "      <td>6.753026</td>\n",
       "      <td>6.675468</td>\n",
       "    </tr>\n",
       "  </tbody>\n",
       "</table>\n",
       "</div>"
      ],
      "text/plain": [
       "                                  distance  immobile_dur  immobile_roll_sum\n",
       "freq train_test time                                                       \n",
       "0Hz  0hr Test   0:00:25-0:00:50  12.366434      0.826185           7.400810\n",
       "                0:00:50-0:01:15  39.545074      6.753026           6.675468"
      ]
     },
     "execution_count": 18,
     "metadata": {},
     "output_type": "execute_result"
    }
   ],
   "source": [
    "grouped_df_std = freeze_df.groupby(['time', 'freq', 'train_test']).std()\n",
    "#grouped_df_std.drop('mouse_id', axis = 1, inplace=True)\n",
    "#grouped_df_std.columns = ['dist_std', 'immobile_std']\n",
    "grouped_df_std.index = grouped_df_std.index.swaplevel(0, 2)\n",
    "grouped_df_std.index = grouped_df_std.index.swaplevel(0, 1)\n",
    "grouped_df_std.sortlevel(inplace=True)\n",
    "grouped_df_std.head(2)"
   ]
  },
  {
   "cell_type": "code",
   "execution_count": 19,
   "metadata": {
    "collapsed": false
   },
   "outputs": [
    {
     "data": {
      "text/html": [
       "<div>\n",
       "<table border=\"1\" class=\"dataframe\">\n",
       "  <thead>\n",
       "    <tr style=\"text-align: right;\">\n",
       "      <th></th>\n",
       "      <th></th>\n",
       "      <th></th>\n",
       "      <th>distance</th>\n",
       "      <th>immobile_dur</th>\n",
       "      <th>immobile_roll_sum</th>\n",
       "    </tr>\n",
       "    <tr>\n",
       "      <th>freq</th>\n",
       "      <th>train_test</th>\n",
       "      <th>time</th>\n",
       "      <th></th>\n",
       "      <th></th>\n",
       "      <th></th>\n",
       "    </tr>\n",
       "  </thead>\n",
       "  <tbody>\n",
       "    <tr>\n",
       "      <th rowspan=\"3\" valign=\"top\">20Hz</th>\n",
       "      <th rowspan=\"3\" valign=\"top\">24hr Test</th>\n",
       "      <th>0:00:30-0:01:00</th>\n",
       "      <td>86.026567</td>\n",
       "      <td>12.999977</td>\n",
       "      <td>28.111083</td>\n",
       "    </tr>\n",
       "    <tr>\n",
       "      <th>0:01:00-0:01:30</th>\n",
       "      <td>66.859100</td>\n",
       "      <td>15.111107</td>\n",
       "      <td>26.866650</td>\n",
       "    </tr>\n",
       "    <tr>\n",
       "      <th>0:01:30-0:02:00</th>\n",
       "      <td>84.327950</td>\n",
       "      <td>9.466665</td>\n",
       "      <td>23.800095</td>\n",
       "    </tr>\n",
       "  </tbody>\n",
       "</table>\n",
       "</div>"
      ],
      "text/plain": [
       "                                  distance  immobile_dur  immobile_roll_sum\n",
       "freq train_test time                                                       \n",
       "20Hz 24hr Test  0:00:30-0:01:00  86.026567     12.999977          28.111083\n",
       "                0:01:00-0:01:30  66.859100     15.111107          26.866650\n",
       "                0:01:30-0:02:00  84.327950      9.466665          23.800095"
      ]
     },
     "execution_count": 19,
     "metadata": {},
     "output_type": "execute_result"
    }
   ],
   "source": [
    "grouped_df_mean2= freeze_df2.groupby(['time', 'freq', 'train_test']).mean()\n",
    "#grouped_df_mean.drop('mouse_id', axis = 1, inplace=True)\n",
    "grouped_df_mean2.index = grouped_df_mean2.index.swaplevel(0, 2)\n",
    "grouped_df_mean2.index = grouped_df_mean2.index.swaplevel(0, 1)\n",
    "grouped_df_mean2.sortlevel(level = ['freq', 'train_test', 'time'], inplace=True)\n",
    "grouped_df_mean2.head(3)"
   ]
  },
  {
   "cell_type": "code",
   "execution_count": 21,
   "metadata": {
    "collapsed": false
   },
   "outputs": [
    {
     "data": {
      "text/html": [
       "<div>\n",
       "<table border=\"1\" class=\"dataframe\">\n",
       "  <thead>\n",
       "    <tr style=\"text-align: right;\">\n",
       "      <th></th>\n",
       "      <th></th>\n",
       "      <th></th>\n",
       "      <th>distance</th>\n",
       "      <th>immobile_dur</th>\n",
       "    </tr>\n",
       "    <tr>\n",
       "      <th>freq</th>\n",
       "      <th>train_test</th>\n",
       "      <th>time</th>\n",
       "      <th></th>\n",
       "      <th></th>\n",
       "    </tr>\n",
       "  </thead>\n",
       "  <tbody>\n",
       "    <tr>\n",
       "      <th rowspan=\"2\" valign=\"top\">20Hz</th>\n",
       "      <th rowspan=\"2\" valign=\"top\">24hr Test</th>\n",
       "      <th>0:00:30-0:01:00</th>\n",
       "      <td>40.382802</td>\n",
       "      <td>8.875688</td>\n",
       "    </tr>\n",
       "    <tr>\n",
       "      <th>0:01:00-0:01:30</th>\n",
       "      <td>16.170663</td>\n",
       "      <td>4.880961</td>\n",
       "    </tr>\n",
       "  </tbody>\n",
       "</table>\n",
       "</div>"
      ],
      "text/plain": [
       "                                  distance  immobile_dur\n",
       "freq train_test time                                    \n",
       "20Hz 24hr Test  0:00:30-0:01:00  40.382802      8.875688\n",
       "                0:01:00-0:01:30  16.170663      4.880961"
      ]
     },
     "execution_count": 21,
     "metadata": {},
     "output_type": "execute_result"
    }
   ],
   "source": [
    "grouped_df_std2 = freeze_df2.groupby(['time', 'freq', 'train_test']).std()\n",
    "#grouped_df_std.drop('mouse_id', axis = 1, inplace=True)\n",
    "#grouped_df_std.columns = ['dist_std', 'immobile_std']\n",
    "grouped_df_std2.index = grouped_df_std2.index.swaplevel(0, 2)\n",
    "grouped_df_std2.index = grouped_df_std2.index.swaplevel(0, 1)\n",
    "grouped_df_std2.sortlevel(inplace=True)\n",
    "grouped_df_std2.head(2)"
   ]
  },
  {
   "cell_type": "markdown",
   "metadata": {},
   "source": [
    "## Plot freezing during training"
   ]
  },
  {
   "cell_type": "code",
   "execution_count": null,
   "metadata": {
    "collapsed": false
   },
   "outputs": [],
   "source": [
    "mov_40Hz = grouped_df_mean.loc['40Hz', 'Train'].immobile_dur\n",
    "mov_40Hz = np.roll(mov_40Hz, 1) \n",
    "mov_20Hz = grouped_df_mean.loc['20Hz', 'Train'].immobile_dur\n",
    "mov_20Hz = np.roll(mov_20Hz, 1) \n",
    "mov_5Hz = grouped_df_mean.loc['5Hz', 'Train'].immobile_dur\n",
    "mov_5Hz = np.roll(mov_5Hz, 1)\n",
    "\n",
    "mov_40Hz_std = grouped_df_std.loc['40Hz', 'Train'].immobile_dur\n",
    "mov_40Hz_std = np.roll(mov_40Hz_std, 1) / np.sqrt(NUM_MICE_FREEZE)\n",
    "mov_20Hz_std = grouped_df_std.loc['20Hz', 'Train'].immobile_dur\n",
    "mov_20Hz_std = np.roll(mov_20Hz_std, 1) / np.sqrt(NUM_MICE_FREEZE)\n",
    "mov_5Hz_std = grouped_df_std.loc['5Hz', 'Train'].immobile_dur\n",
    "mov_5Hz_std = np.roll(mov_5Hz_std, 1)/ np.sqrt(NUM_MICE_FREEZE)"
   ]
  },
  {
   "cell_type": "code",
   "execution_count": null,
   "metadata": {
    "collapsed": false
   },
   "outputs": [],
   "source": [
    "mov_20Hz.shape"
   ]
  },
  {
   "cell_type": "markdown",
   "metadata": {},
   "source": [
    "### Plotting parameters"
   ]
  },
  {
   "cell_type": "code",
   "execution_count": null,
   "metadata": {
    "collapsed": false
   },
   "outputs": [],
   "source": [
    "fig, ax = plt.subplots(1, figsize=[11, 6])\n",
    "last_index =14\n",
    "time_indices = np.arange(last_index) / 2+0.25\n",
    "plt.errorbar(time_indices+0.05, mov_5Hz[:last_index], mov_5Hz_std[:last_index], label = '5Hz', capsize = 0, color=color_dict[5])\n",
    "plt.errorbar(time_indices, mov_20Hz[:last_index], mov_20Hz_std[:last_index], label = '20Hz', capsize = 0, color=color_dict[20])\n",
    "plt.errorbar(time_indices-0.05, mov_40Hz[:last_index], mov_40Hz_std[:last_index], label = '40Hz', capsize = 0, color=color_dict[40])\n",
    "laser_times = [[1, 1.5], [2.5, 3], [4, 4.5], [5.5, 6]]\n",
    "for cur_laser in laser_times:\n",
    "    plt.axvspan(cur_laser[0], cur_laser[1], facecolor =  'k', alpha = 0.15)\n",
    "    \n",
    "plt.legend(frameon = False)\n",
    "prettify_axes(plt.gca())\n",
    "plt.xlabel('Time (min)')\n",
    "plt.ylabel('Immobile time (s)');\n",
    "fig.savefig('Training timecourse.png')"
   ]
  },
  {
   "cell_type": "markdown",
   "metadata": {},
   "source": [
    "## Plot freezing during test\n",
    "\n",
    "Calculate means"
   ]
  },
  {
   "cell_type": "code",
   "execution_count": 32,
   "metadata": {
    "collapsed": false
   },
   "outputs": [],
   "source": [
    "def calc_chronological_mean(df, freq, train_test):\n",
    "    return np.roll(df.loc[freq, train_test].immobile_roll_sum, 1)\n",
    "test_40Hz_mean = calc_chronological_mean(grouped_df_mean, '40Hz', '24hr Test')\n",
    "test_20Hz_mean = calc_chronological_mean(grouped_df_mean, '20Hz', '24hr Test')\n",
    "test_5Hz_mean = calc_chronological_mean(grouped_df_mean, '5Hz', '24hr Test')\n",
    "test_40Hz_mean2 = calc_chronological_mean(grouped_df_mean2, '40Hz', '24hr Test')\n",
    "test_20Hz_mean2 = calc_chronological_mean(grouped_df_mean2, '20Hz', '24hr Test')\n",
    "test_5Hz_mean2 = calc_chronological_mean(grouped_df_mean2, '5Hz', '24hr Test')\n",
    "\n",
    "test_40Hz_mean = ( test_20Hz_mean[:4] + test_40Hz_mean2[:4]) / 2\n",
    "test_20Hz_mean = ( test_20Hz_mean[:4] + test_20Hz_mean2[:4]) / 2\n",
    "test_5Hz_mean = ( test_5Hz_mean[:4] + test_5Hz_mean2[:4]) / 2\n",
    "#test_0Hz_mean = grouped_df_mean.loc['0Hz', '0hr Test'].immobile_roll_sum\n",
    "#test_0Hz_mean = np.roll(test_0Hz_mean, 1)"
   ]
  },
  {
   "cell_type": "markdown",
   "metadata": {},
   "source": [
    "Calculate std's"
   ]
  },
  {
   "cell_type": "code",
   "execution_count": 33,
   "metadata": {
    "collapsed": false
   },
   "outputs": [],
   "source": [
    "def calc_chronological_ste(df, freq, train_test):\n",
    "    return np.roll(df.loc[freq, train_test].immobile_roll_sum / np.sqrt(NUM_MICE_FREEZE), 1)\n",
    "test_40Hz_ste = calc_chronological_ste(grouped_df_mean, '40Hz', '24hr Test')\n",
    "test_20Hz_ste = calc_chronological_ste(grouped_df_mean, '20Hz', '24hr Test')\n",
    "test_5Hz_ste = calc_chronological_ste(grouped_df_mean, '5Hz', '24hr Test')\n",
    "test_40Hz_ste2 = calc_chronological_ste(grouped_df_mean2, '40Hz', '24hr Test')\n",
    "test_20Hz_ste2 = calc_chronological_ste(grouped_df_mean2, '20Hz', '24hr Test')\n",
    "test_5Hz_ste2 = calc_chronological_ste(grouped_df_mean2, '5Hz', '24hr Test')\n",
    "\n",
    "test_40Hz_ste = ( test_40Hz_ste[:4] + test_40Hz_ste2[:4]) / 2\n",
    "test_20Hz_ste = ( test_20Hz_ste[:4] + test_20Hz_ste2[:4]) / 2\n",
    "test_5Hz_ste = ( test_5Hz_ste[:4] + test_5Hz_ste2[:4]) / 2\n",
    "#test_0Hz_ste = grouped_df_std.loc['0Hz', '0hr Test'].immobile_roll_sum / np.sqrt(NUM_MICE_FREEZE)\n",
    "#test_0Hz_ste = np.roll(test_0Hz_ste, 1)"
   ]
  },
  {
   "cell_type": "code",
   "execution_count": 34,
   "metadata": {
    "collapsed": false
   },
   "outputs": [
    {
     "data": {
      "image/png": "[encoded data removed]",
      "text/plain": [
       "<matplotlib.figure.Figure at 0x90d57b8>"
      ]
     },
     "metadata": {},
     "output_type": "display_data"
    }
   ],
   "source": [
    "fig, ax = plt.subplots(1, figsize=[11, 6])\n",
    "last_index =4\n",
    "time_indices = np.arange(last_index) / 2+0.25\n",
    "#plt.errorbar(time_indices[:4], test_0Hz_mean[:4] / 2, test_0Hz_ste[:4] / 2, label = '0', color=color_dict[0], capsize = 0)\n",
    "plt.errorbar(time_indices, test_5Hz_mean[:last_index] / 2, test_5Hz_ste[:last_index] / 2, label = '5', color=color_dict[5], capsize = 0)\n",
    "plt.errorbar(time_indices, test_20Hz_mean[:last_index] / 2, test_20Hz_ste[:last_index] / 2, label = '20', color=color_dict[20], capsize = 0)\n",
    "plt.errorbar(time_indices, test_40Hz_mean[:last_index] / 2, test_40Hz_ste[:last_index] / 2, label = '40', color=color_dict[40], capsize = 0)\n",
    "plt.legend(frameon = False)\n",
    "plt.xlabel('Time (min)')\n",
    "plt.ylabel('Freezing time (seconds)')\n",
    "prettify_axes(plt.gca())\n",
    "fig.savefig('Testing timecourse.png')"
   ]
  },
  {
   "cell_type": "code",
   "execution_count": 36,
   "metadata": {
    "collapsed": false
   },
   "outputs": [
    {
     "ename": "NameError",
     "evalue": "name 'mov_5Hz' is not defined",
     "output_type": "error",
     "traceback": [
      "\u001b[1;31m---------------------------------------------------------------------------\u001b[0m",
      "\u001b[1;31mNameError\u001b[0m                                 Traceback (most recent call last)",
      "\u001b[1;32m<ipython-input-36-95bef3dde281>\u001b[0m in \u001b[0;36m<module>\u001b[1;34m()\u001b[0m\n\u001b[0;32m      3\u001b[0m \u001b[1;31m#freq_means = np.array([test_0Hz_mean[0], test_5Hz_mean[0], test_20Hz_mean[0], test_40Hz_mean[0]]) * 6 / 5\u001b[0m\u001b[1;33m\u001b[0m\u001b[1;33m\u001b[0m\u001b[0m\n\u001b[0;32m      4\u001b[0m \u001b[1;31m#freq_stes = np.array([test_0Hz_ste[0],  test_5Hz_ste[0], test_20Hz_ste[0], test_40Hz_ste[0]])* 6 / 5\u001b[0m\u001b[1;33m\u001b[0m\u001b[1;33m\u001b[0m\u001b[0m\n\u001b[1;32m----> 5\u001b[1;33m \u001b[0mfreq_means\u001b[0m \u001b[1;33m=\u001b[0m \u001b[0mnp\u001b[0m\u001b[1;33m.\u001b[0m\u001b[0marray\u001b[0m\u001b[1;33m(\u001b[0m\u001b[1;33m[\u001b[0m\u001b[0mmov_5Hz\u001b[0m\u001b[1;33m[\u001b[0m\u001b[1;36m0\u001b[0m\u001b[1;33m]\u001b[0m\u001b[1;33m,\u001b[0m \u001b[0mtest_5Hz_mean\u001b[0m\u001b[1;33m[\u001b[0m\u001b[1;36m0\u001b[0m\u001b[1;33m]\u001b[0m\u001b[1;33m,\u001b[0m \u001b[0mtest_20Hz_mean\u001b[0m\u001b[1;33m[\u001b[0m\u001b[1;36m1\u001b[0m\u001b[1;33m]\u001b[0m\u001b[1;33m,\u001b[0m \u001b[0mtest_40Hz_mean\u001b[0m\u001b[1;33m[\u001b[0m\u001b[1;36m1\u001b[0m\u001b[1;33m]\u001b[0m\u001b[1;33m]\u001b[0m\u001b[1;33m)\u001b[0m \u001b[1;33m*\u001b[0m \u001b[1;36m6\u001b[0m \u001b[1;33m/\u001b[0m \u001b[1;36m5\u001b[0m\u001b[1;33m\u001b[0m\u001b[0m\n\u001b[0m\u001b[0;32m      6\u001b[0m \u001b[0mfreq_stes\u001b[0m \u001b[1;33m=\u001b[0m \u001b[0mnp\u001b[0m\u001b[1;33m.\u001b[0m\u001b[0marray\u001b[0m\u001b[1;33m(\u001b[0m\u001b[1;33m[\u001b[0m\u001b[0mmov_5Hz_std\u001b[0m\u001b[1;33m[\u001b[0m\u001b[1;36m0\u001b[0m\u001b[1;33m]\u001b[0m\u001b[1;33m,\u001b[0m \u001b[0mtest_5Hz_ste\u001b[0m\u001b[1;33m[\u001b[0m\u001b[1;36m0\u001b[0m\u001b[1;33m]\u001b[0m\u001b[1;33m,\u001b[0m \u001b[0mtest_20Hz_ste\u001b[0m\u001b[1;33m[\u001b[0m\u001b[1;36m1\u001b[0m\u001b[1;33m]\u001b[0m\u001b[1;33m,\u001b[0m \u001b[0mtest_40Hz_ste\u001b[0m\u001b[1;33m[\u001b[0m\u001b[1;36m1\u001b[0m\u001b[1;33m]\u001b[0m\u001b[1;33m]\u001b[0m\u001b[1;33m)\u001b[0m\u001b[1;33m*\u001b[0m \u001b[1;36m6\u001b[0m \u001b[1;33m/\u001b[0m \u001b[1;36m5\u001b[0m\u001b[1;33m\u001b[0m\u001b[0m\n\u001b[0;32m      7\u001b[0m \u001b[0mplt\u001b[0m\u001b[1;33m.\u001b[0m\u001b[0merrorbar\u001b[0m\u001b[1;33m(\u001b[0m\u001b[0mfreeze_indices\u001b[0m\u001b[1;33m,\u001b[0m \u001b[0mfreq_means\u001b[0m\u001b[1;33m,\u001b[0m \u001b[0mfreq_stes\u001b[0m\u001b[1;33m,\u001b[0m \u001b[0mcapsize\u001b[0m \u001b[1;33m=\u001b[0m \u001b[1;36m0\u001b[0m\u001b[1;33m,\u001b[0m \u001b[0mcolor\u001b[0m \u001b[1;33m=\u001b[0m \u001b[1;34m'red'\u001b[0m\u001b[1;33m)\u001b[0m\u001b[1;33m\u001b[0m\u001b[0m\n",
      "\u001b[1;31mNameError\u001b[0m: name 'mov_5Hz' is not defined"
     ]
    },
    {
     "data": {
      "image/png": "[encoded data removed]",
      "text/plain": [
       "<matplotlib.figure.Figure at 0x8f43fd0>"
      ]
     },
     "metadata": {},
     "output_type": "display_data"
    }
   ],
   "source": [
    "fig, ax = plt.subplots(1, figsize = [8, 6])\n",
    "freeze_indices = np.array([0,  5, 20, 40])\n",
    "#freq_means = np.array([test_0Hz_mean[0], test_5Hz_mean[0], test_20Hz_mean[0], test_40Hz_mean[0]]) * 6 / 5\n",
    "#freq_stes = np.array([test_0Hz_ste[0],  test_5Hz_ste[0], test_20Hz_ste[0], test_40Hz_ste[0]])* 6 / 5\n",
    "freq_means = np.array([mov_5Hz[0], test_5Hz_mean[0], test_20Hz_mean[1], test_40Hz_mean[1]]) * 6 / 5\n",
    "freq_stes = np.array([mov_5Hz_std[0], test_5Hz_ste[0], test_20Hz_ste[1], test_40Hz_ste[1]])* 6 / 5\n",
    "plt.errorbar(freeze_indices, freq_means, freq_stes, capsize = 0, color = 'red')\n",
    "plt.xlim([-1, 50])\n",
    "plt.ylim([0, 60])\n",
    "plt.ylabel('Immobile duration (first minute)', fontsize = 20)\n",
    "plt.xlabel('Stimulation frequency (Hz)', fontsize = 20)\n",
    "plt.xticks([0,1,5,10,20,40])\n",
    "prettify_axes(plt.gca())\n",
    "fig.savefig('Frequency vs immobility.png')"
   ]
  },
  {
   "cell_type": "markdown",
   "metadata": {},
   "source": [
    "# CalcRL feeding"
   ]
  },
  {
   "cell_type": "code",
   "execution_count": null,
   "metadata": {
    "collapsed": false
   },
   "outputs": [],
   "source": [
    "#feed_df = pd.read_csv('CalcRL feeding lick times - retry.csv', sep=';')\n",
    "feed_df = pd.read_csv('2016 CalcRL feeding frequency.csv', sep=';')\n",
    "feed_df.head()"
   ]
  },
  {
   "cell_type": "code",
   "execution_count": null,
   "metadata": {
    "collapsed": false
   },
   "outputs": [],
   "source": [
    "feed_df['duration'] = feed_df.stop - feed_df.start\n",
    "feed_df.head(3)"
   ]
  },
  {
   "cell_type": "code",
   "execution_count": null,
   "metadata": {
    "collapsed": false,
    "scrolled": true
   },
   "outputs": [],
   "source": [
    "sum_feed_df = feed_df.groupby(['mouse', 'Hz']).sum()\n",
    "sum_feed_df.head(3)"
   ]
  },
  {
   "cell_type": "code",
   "execution_count": null,
   "metadata": {
    "collapsed": false
   },
   "outputs": [],
   "source": [
    "mean_mouse_feed_df = sum_feed_df.groupby(level = 'Hz').mean()\n",
    "std_mouse_feed_df = sum_feed_df.groupby(level = 'Hz').std()\n",
    "mean_mouse_feed_df.head()"
   ]
  },
  {
   "cell_type": "code",
   "execution_count": null,
   "metadata": {
    "collapsed": false
   },
   "outputs": [],
   "source": [
    "fig, ax = plt.subplots(1, figsize=[8, 6])\n",
    "freeze_indices = np.array([0,  5, 20, 40])\n",
    "freq_means = np.array([mov_5Hz[0], test_5Hz_mean[1], test_20Hz_mean[1], test_40Hz_mean[1]] )/ 48\n",
    "freq_stes = np.array([mov_5Hz_std[0],  test_5Hz_ste[1], test_20Hz_ste[1], test_40Hz_ste[1]] ) / 48\n",
    "plt.errorbar(freeze_indices,  100 *freq_means,  100 *freq_stes, label = 'Freezing', color = 'r', capsize = 0)\n",
    "\n",
    "feed_indices = np.array([0, 1, 5, 20, 40])\n",
    "max_duration =  mean_mouse_feed_df['duration'][0]\n",
    "plt.errorbar(feed_indices, 100 *mean_mouse_feed_df['duration'] / max_duration,\n",
    "              100 *std_mouse_feed_df['duration'] / (max_duration * np.sqrt(NUM_MICE_FEED)),\n",
    "            label = 'Feeding', color = 'b', capsize = 0)\n",
    "plt.xlim([-1, 50])\n",
    "plt.ylim([0, 140])\n",
    "\n",
    "plt.ylabel('Freeze duration (% of time)\\nFeeding duration (% of 0Hz)')\n",
    "plt.xlabel('Stimulation frequency (Hz)')\n",
    "plt.xticks([0,1,5,10,20,40])\n",
    "prettify_axes(plt.gca())\n",
    "plt.legend(loc='upper right', frameon=False);\n",
    "fig.savefig('CalcRL Freezing vs Feeding.png');"
   ]
  },
  {
   "cell_type": "code",
   "execution_count": null,
   "metadata": {
    "collapsed": false
   },
   "outputs": [],
   "source": [
    "fig, ax = plt.subplots(1, figsize=[8, 6])\n",
    "feed_indices = np.array([0, 1, 5, 20, 40])\n",
    "max_duration =  mean_mouse_feed_df['duration'][0]\n",
    "plt.errorbar(feed_indices, 100 *mean_mouse_feed_df['duration'] / max_duration,\n",
    "              100 *std_mouse_feed_df['duration'] / (max_duration * np.sqrt(NUM_MICE_FEED)),\n",
    "            label = 'Feeding', color = 'b', capsize = 0)\n",
    "plt.xlim([-1, 50])\n",
    "plt.ylim([0, 140])\n",
    "\n",
    "plt.ylabel('Feeding duration (% of 0Hz)')\n",
    "plt.xlabel('Stimulation frequency (Hz)')\n",
    "plt.xticks([0,1,5,10,20,40])\n",
    "prettify_axes(plt.gca())\n",
    "#plt.legend(loc='lower right', frameon=False, fontsize = fs-4);\n",
    "fig.savefig('CalcRL Freezing vs Feeding.png');"
   ]
  },
  {
   "cell_type": "code",
   "execution_count": null,
   "metadata": {
    "collapsed": false
   },
   "outputs": [],
   "source": [
    "sum_feed_df"
   ]
  },
  {
   "cell_type": "code",
   "execution_count": null,
   "metadata": {
    "collapsed": true
   },
   "outputs": [],
   "source": []
  }
 ],
 "metadata": {
  "kernelspec": {
   "display_name": "Python 3",
   "language": "python",
   "name": "python3"
  },
  "language_info": {
   "codemirror_mode": {
    "name": "ipython",
    "version": 3
   },
   "file_extension": ".py",
   "mimetype": "text/x-python",
   "name": "python",
   "nbconvert_exporter": "python",
   "pygments_lexer": "ipython3",
   "version": "3.4.4"
  }
 },
 "nbformat": 4,
 "nbformat_minor": 0
}
